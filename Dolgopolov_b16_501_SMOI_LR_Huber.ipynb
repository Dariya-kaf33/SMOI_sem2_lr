{
 "cells": [
  {
   "cell_type": "markdown",
   "metadata": {},
   "source": [
    "### Лабораторная работа №5\n",
    "#### Идентификация параметров линейного регрессионного объекта при α− загрязненных шумах"
   ]
  },
  {
   "cell_type": "markdown",
   "metadata": {},
   "source": [
    "Пусть линейный регрессионный объект имеет вид:\n",
    "$$ \\large y(i)=с_{0}+с_{1}u_{1}(i)+...+с_{4}u_{4}(i)+\\eta(i) , $$ \n",
    "\n",
    "где шум, действующий на объект, принадлежит классу приближенно нормальных распределений:\n",
    "$ \\large f(\\eta) = (1-\\alpha)f_N(\\eta) + \\alpha g(\\eta) $ <br>\n",
    "$ \\large f_N(\\eta) = \\frac{1}{\\sqrt{2 \\pi} \\sigma_\\eta} exp(- \\frac{\\eta^2}{2 \\sigma^2_\\eta}) $ - нормальное распределение $ \\large N(0, \\sigma_\\eta)$, <br>\n",
    "$\\large \\alpha$ - вероятность появление выброса с рапределением $\\large g(\\eta)$ <br>\n",
    "$\\large g(\\eta)$ - вообще говоря какое-то распределение, но в данной лабораторной работе будет нормальным $ \\large N(0, \\sigma_\\eta (outlier))$, но его параметры отличны от $\\large f_N(\\eta)$"
   ]
  },
  {
   "cell_type": "code",
   "execution_count": 51,
   "metadata": {},
   "outputs": [],
   "source": [
    "# параметры объекта \n",
    "c0=3.5\n",
    "c1=-0.3\n",
    "c2=0\n",
    "c3=6.0\n",
    "c4=-2.2"
   ]
  },
  {
   "cell_type": "code",
   "execution_count": 351,
   "metadata": {},
   "outputs": [],
   "source": [
    "# количество измерений\n",
    "N=50"
   ]
  },
  {
   "cell_type": "markdown",
   "metadata": {},
   "source": [
    "#### Сгенерируем шум, принадлежащий классу приближенно нормальных распределений"
   ]
  },
  {
   "cell_type": "code",
   "execution_count": 352,
   "metadata": {},
   "outputs": [],
   "source": [
    "import numpy as np\n",
    "from scipy.stats import rv_continuous"
   ]
  },
  {
   "cell_type": "code",
   "execution_count": 353,
   "metadata": {},
   "outputs": [],
   "source": [
    "# класс для \"загрязненного\" распределения\n",
    "class gaussian_gen(rv_continuous):\n",
    "    \n",
    "    def _pdf(self, x, alpha, sigma_1, sigma_2):\n",
    "        \"Gaussian distribution\"\n",
    "        def gaussian(self, x, sigma):\n",
    "            return np.exp(-x**2 / 2. / sigma**2) / (np.sqrt(2.0 * np.pi)*sigma)\n",
    "        \n",
    "        return (1-alpha)*gaussian(self, x, sigma_1)+alpha*gaussian(self, x, sigma_2)\n",
    "\n",
    "gaussian = gaussian_gen(name='dirty_distrib')"
   ]
  },
  {
   "cell_type": "markdown",
   "metadata": {},
   "source": [
    "Провести исследование эффективности алгоритма Хубера по сравнению с рекуррентным МНК алгоритмом при следующих статистических характеристиках распределений:\n",
    "    * $ \\sigma_\\eta $ = 0.5    $\\alpha$ = 0.1    $\\sigma_\\eta (outlier)$ = 10;\n",
    "    * $ \\sigma_\\eta $ = 0.5    $\\alpha$ = 0.1    $\\sigma_\\eta (outlier)$ = 50;\n",
    "    * $ \\sigma_\\eta $ = 0.5    $\\alpha$ = 0.1    $\\sigma_\\eta (outlier)$ = 100;\n",
    "    * $ \\sigma_\\eta $ = 0.5    $\\alpha$ = 0.3    $\\sigma_\\eta (outlier)$ = 10;\n",
    "    * $ \\sigma_\\eta $ = 0.5    $\\alpha$ = 0.3    $\\sigma_\\eta (outlier)$ = 50;\n",
    "    * $ \\sigma_\\eta $ = 0.5    $\\alpha$ = 0.3    $\\sigma_\\eta (outlier)$ = 100. "
   ]
  },
  {
   "cell_type": "markdown",
   "metadata": {},
   "source": [
    "Зададим следующие параметры нашего загрязненного распределения для шума:"
   ]
  },
  {
   "cell_type": "code",
   "execution_count": 354,
   "metadata": {},
   "outputs": [],
   "source": [
    "alpha = 0.3\n",
    "xi=0.9\n",
    "sigma_1 = 0.5\n",
    "sigma_2 = 50\n",
    "Noise = gaussian.rvs(alpha, sigma_1, sigma_2, size=N)"
   ]
  },
  {
   "cell_type": "markdown",
   "metadata": {},
   "source": [
    "#### Посмотрим на сгенерированный шум и увидим \"выбросы\" из другого распределения"
   ]
  },
  {
   "cell_type": "code",
   "execution_count": 355,
   "metadata": {},
   "outputs": [],
   "source": [
    "import matplotlib.pyplot as plt\n",
    "%matplotlib inline"
   ]
  },
  {
   "cell_type": "code",
   "execution_count": 356,
   "metadata": {},
   "outputs": [
    {
     "data": {
      "image/png": "[encoded data removed]",
      "text/plain": [
       "<Figure size 432x288 with 1 Axes>"
      ]
     },
     "metadata": {
      "needs_background": "light"
     },
     "output_type": "display_data"
    }
   ],
   "source": [
    "plt.plot(Noise)\n",
    "plt.grid()"
   ]
  },
  {
   "cell_type": "markdown",
   "metadata": {},
   "source": [
    "#### Зададим параметры входов объекта и смоделируем выход объекта"
   ]
  },
  {
   "cell_type": "code",
   "execution_count": 357,
   "metadata": {},
   "outputs": [],
   "source": [
    "#Ваш код здесь\n",
    "Avg_U1=1\n",
    "Var_U1=7\n",
    "Avg_U2=3\n",
    "Var_U2=12\n",
    "Avg_U3=4\n",
    "Var_U3=15\n",
    "Avg_U4=7\n",
    "Var_U4=22"
   ]
  },
  {
   "cell_type": "code",
   "execution_count": 358,
   "metadata": {},
   "outputs": [],
   "source": [
    "#Ваш код здесь\n",
    "U1=np.random.normal(Avg_U1, Var_U1, N)\n",
    "U2=np.random.normal(Avg_U2, Var_U2, N)\n",
    "U3=np.random.normal(Avg_U3, Var_U3, N)\n",
    "U4=np.random.normal(Avg_U4, Var_U4, N)"
   ]
  },
  {
   "cell_type": "code",
   "execution_count": 359,
   "metadata": {},
   "outputs": [],
   "source": [
    "# моделирование выхода объекта\n",
    "y=c0+c1*U1+c2*U2+c3*U3+c4*U4+Noise"
   ]
  },
  {
   "cell_type": "code",
   "execution_count": 360,
   "metadata": {},
   "outputs": [
    {
     "data": {
      "image/png": "[encoded data removed]",
      "text/plain": [
       "<Figure size 432x288 with 1 Axes>"
      ]
     },
     "metadata": {
      "needs_background": "light"
     },
     "output_type": "display_data"
    }
   ],
   "source": [
    "plt.plot(y)\n",
    "plt.grid()"
   ]
  },
  {
   "cell_type": "markdown",
   "metadata": {},
   "source": [
    "### Эффективность алгоритма Хубера vs Рекуррентным МНК при различных статистических характеристиках распределений"
   ]
  },
  {
   "cell_type": "markdown",
   "metadata": {},
   "source": [
    "В лабораторной работе требуется:\n",
    "\n",
    "1. Реализовать __class Huber__ c методами: <br>\n",
    "   * в конструкторе класса небходимо задать:<br>\n",
    "     1) λ в формуле задания начального приближения матрицы Г(0) = λ*I <br>\n",
    "    2) параметр $ \\xi $, участвующий в функции потерь Хьюбера, в зависимости от вероятности появления выброса $ \\alpha $ (значения которого приведены в описании ЛР) <br><br>\n",
    "   *   __def fit(X, y, c0)__ - метод реализует алгоритм итерационного оценивания параметов объекта с использованием функции потерь Хьюбера:<br>\n",
    "        <br>\n",
    "        Input:<br>\n",
    "            X - матрица входов объекта, [X] = m x N <br>\n",
    "            y - вектор выходов объекта, [y] = N <br>\n",
    "            с0 - вектор начального приближения, [c0] = m <br>\n",
    "        <br>       \n",
    "   * __def get_coefs()__ - метод возвращает массив коэффициентов оценок вектора параметров объекта, получаемого на каждом новом шаге измерений<br>\n",
    "        <br>\n",
    "        Output:<br>\n",
    "            c_estim_huber - массив оценок параметров объекта, полученный в результате работы метода fit<br><br>\n"
   ]
  },
  {
   "cell_type": "code",
   "execution_count": 373,
   "metadata": {},
   "outputs": [],
   "source": [
    "import math\n",
    "from scipy.integrate import quad\n",
    "\n",
    "\n",
    "def calc_fN(eta):\n",
    "    return math.exp(-eta * eta / 2 / sigma_1 / sigma_1) / pow(2 * math.pi, 0.5) / sigma_1\n",
    "\n",
    "class Huber:\n",
    "    def __init__(self, lambd, xi):\n",
    "        self.lambd = lambd\n",
    "        self.xi = xi\n",
    "        self.delta =  sigma_1 * self.xi\n",
    "        def integr(eta):\n",
    "            return eta **2 * math.exp(-eta * eta / (2*sigma_1*sigma_1))\n",
    "        \n",
    "        If = (\n",
    "            2 * (1 - alpha) * self.delta / sigma_1**2 * calc_fN(self.xi)\n",
    "            + (1 - alpha) / pow(2 * math.pi, 0.5) / pow(sigma_1, 5) * quad(integr, -self.delta, self.delta)[0]\n",
    "        )\n",
    "        \n",
    "        self.If = If\n",
    "        self.c_estim_huber = []\n",
    "    \n",
    "    def fit(self, X, y, c0):\n",
    "        C = c0\n",
    "        self.c_estim_huber.append(c0)\n",
    "        G = self.lambd * np.eye(5)\n",
    "        for i in range(1, N+1):\n",
    "            eps = y[i-1] - C[0, 0] - C[1, 0] * X[0][i-1] - C[2, 0] * X[1][i-1] - C[3, 0] * X[2][i-1] - C[4, 0] * X[3][i-1]\n",
    "            if eps <= -self.delta:\n",
    "                d_eps = -self.delta\n",
    "            elif eps >= self.delta:\n",
    "                d_eps = self.delta\n",
    "            else:\n",
    "                d_eps = eps\n",
    "            z = np.matrix([1, X[0][i-1], X[1][i-1], X[2][i-1], X[3][i-1]]).T    \n",
    "            G = G - G * z * z.T * G / (pow(self.If, -1) + z.T * G * z)\n",
    "            C = C + G * d_eps * z\n",
    "            self.c_estim_huber.append(C)\n",
    "    \n",
    "    def get_coefs(self):\n",
    "        return self.c_estim_huber\n",
    "    "
   ]
  },
  {
   "cell_type": "code",
   "execution_count": 374,
   "metadata": {},
   "outputs": [
    {
     "name": "stdout",
     "output_type": "stream",
     "text": [
      "[[ 3.36577686]\n",
      " [-0.0661971 ]\n",
      " [ 0.17859959]\n",
      " [ 5.74093276]\n",
      " [-2.06464292]]\n"
     ]
    }
   ],
   "source": [
    "a = Huber(0.1, xi)\n",
    "a.fit([U1, U2, U3, U4], y, np.matrix([3.2,-0.1,0.2,5.7,-2]).T)\n",
    "coefs_1 = a.get_coefs()\n",
    "print(coefs_1[-1])"
   ]
  },
  {
   "cell_type": "code",
   "execution_count": null,
   "metadata": {},
   "outputs": [],
   "source": [
    "[[ 3.36577686]\n",
    " [-0.0661971 ]\n",
    " [ 0.17859959]\n",
    " [ 5.74093276]\n",
    " [-2.06464292]]"
   ]
  },
  {
   "cell_type": "markdown",
   "metadata": {},
   "source": [
    "2. Реализовать __class RecurrentMLS__ с методами: <br>\n",
    "\n",
    "    * в конструкторе класса небходимо задать:<br>\n",
    "     1) λ в формуле задания начального приближения матрицы Г(0) = λ*I <br><br>\n",
    "\n",
    "    * __def fit(X, y, c0)__ - метод реализует алгоритм итерационного оценивания параметов объекта с использованием квадратичной функции потерь (см. 2 лабораторную работу):<br>\n",
    "         <br>\n",
    "     Input:<br>\n",
    "             X - матрица входов объекта, [X] = m x N<br>\n",
    "             y - вектор выходов объекта, [y] = N<br>\n",
    "             с0 - вектор начального приближения, [c0] = m+1<br><br>\n",
    "        \n",
    "    * __def get_coefs()__ - метод возвращает массив коэффициентов оценок вектора параметров объекта, получаемого на каждом новом шаге измерений<br>\n",
    "        <br>\n",
    "        Output:<br>\n",
    "            c_estim_recMLS - массив оценок параметров объекта, полученный в результате работы метода fit<br><br>        "
   ]
  },
  {
   "cell_type": "code",
   "execution_count": 363,
   "metadata": {},
   "outputs": [],
   "source": [
    "class RecurrentMLS:\n",
    "    def __init__(self, lambd):\n",
    "        self.lambd = lambd     \n",
    "        self.c_estim_recMLS = []\n",
    "    \n",
    "    def fit(self, X, y, c0):\n",
    "        C = c0\n",
    "        self.c_estim_recMLS.append(c0)\n",
    "        G = self.lambd * np.eye(5)\n",
    "        for i in range(1, N+1):\n",
    "            eps = y[i-1] - C[0, 0] - C[1, 0] * X[0][i-1] - C[2, 0] * X[1][i-1] - C[3, 0] * X[2][i-1] - C[4, 0] * X[3][i-1]\n",
    "            z = np.matrix([1, X[0][i-1], X[1][i-1], X[2][i-1], X[3][i-1]]).T    \n",
    "            G = G - G * z * z.T * G / (1 + z.T * G *z)\n",
    "            C = C + G * eps * z\n",
    "            self.c_estim_recMLS.append(C)\n",
    "    \n",
    "    def get_coefs(self):\n",
    "        return self.c_estim_recMLS"
   ]
  },
  {
   "cell_type": "code",
   "execution_count": 364,
   "metadata": {},
   "outputs": [
    {
     "name": "stdout",
     "output_type": "stream",
     "text": [
      "[[ 5.69365365]\n",
      " [-0.45930312]\n",
      " [-0.67936041]\n",
      " [ 6.02385208]\n",
      " [-2.31001291]]\n"
     ]
    }
   ],
   "source": [
    "b = RecurrentMLS(0.1)\n",
    "b.fit([U1, U2, U3, U4], y, np.matrix([3.2,-0.1,0.2,5.7,-2]).T)\n",
    "coefs_2 = b.get_coefs()\n",
    "print(coefs_2[-1])"
   ]
  },
  {
   "cell_type": "markdown",
   "metadata": {},
   "source": [
    "3. Реализовать функцию __smooth_errors(c_estim, c_true)__  - вычисляет сглаженную ошибку оценки по 10 измерениям. <br>\n",
    "         Input: \n",
    "             c_estim - массив оценок параметров объекта, [c_estim] = m+1 x N\n",
    "             c_true - вектор истинных параметров объекта, [c_true] = m+1 \n",
    "         Output:\n",
    "             err - массив сглаженных ошибок оценки\n",
    "         "
   ]
  },
  {
   "cell_type": "code",
   "execution_count": 365,
   "metadata": {},
   "outputs": [],
   "source": [
    "def smooth_errors(c_estim, c_true):\n",
    "    ERR = []\n",
    "    for i in range(10, N):\n",
    "        err = 0\n",
    "        for j in range(1, 11):\n",
    "            for k in range(5):\n",
    "                err += (c_estim[i - j][k, 0] - c_true[k]) ** 2\n",
    "        err /= 10\n",
    "        err = err ** 0.5\n",
    "        ERR.append(err)\n",
    "    return(ERR)"
   ]
  },
  {
   "cell_type": "markdown",
   "metadata": {},
   "source": [
    "5. Построить графики сходимости сглаженной ошибки оценки по двум алгоритмам: алгоритм с использованием теоремы Хубера и рекуррентный алгоритм, соответствующий методу наименьших квадратов. Сдалать выводы."
   ]
  },
  {
   "cell_type": "code",
   "execution_count": 366,
   "metadata": {},
   "outputs": [
    {
     "data": {
      "text/plain": [
       "<matplotlib.legend.Legend at 0x1b52b39f188>"
      ]
     },
     "execution_count": 366,
     "metadata": {},
     "output_type": "execute_result"
    },
    {
     "data": {
      "image/png": "[encoded data removed]",
      "text/plain": [
       "<Figure size 432x288 with 1 Axes>"
      ]
     },
     "metadata": {
      "needs_background": "light"
     },
     "output_type": "display_data"
    }
   ],
   "source": [
    "err1 = smooth_errors(coefs_1, [c0, c1, c2, c3, c4])\n",
    "err2 = smooth_errors(coefs_2, [c0, c1, c2, c3, c4])\n",
    "x = [x for x in range(10, N)]\n",
    "plt.plot(x, err1, label='Метод Хьюбера')\n",
    "plt.plot(x, err2, label='МНК')\n",
    "plt.legend()"
   ]
  },
  {
   "cell_type": "markdown",
   "metadata": {},
   "source": [
    "### Hints"
   ]
  },
  {
   "cell_type": "markdown",
   "metadata": {},
   "source": [
    "1. Рекуррентный алгоритм при функции потерь Хьюбера имеет вид:\n",
    "\\begin{equation} \\large \\hat{\\vec{c}}(i)=\\hat{\\vec{c}}(i-1)+Г(i)d(\\varepsilon(i, \\hat{\\vec{c}}(i-1)))\\vec{z}(i) \\\\\n",
    "\\large Г(i)=Г(i-1)-\\frac{Г(i-1)\\vec{z}(i)\\vec{z}(i)^TГ(i-1)}{I^{-1}_F+\\vec{z}^T(i)Г(i-1)\\vec{z}(i)} \\\\\n",
    "\\large Г(0)=\\lambda I, \\lambda >> 1,  \\hat{\\vec{c}}(0)=\\vec{c}_{0}\\end{equation}"
   ]
  },
  {
   "cell_type": "markdown",
   "metadata": {},
   "source": [
    "где $ \\large  \\Delta = \\xi\\sigma_\\eta$\n",
    "\\begin{equation} \\large d(\\varepsilon(i, \\hat{\\vec{c}}(i-1)))=\\frac{dF(\\varepsilon(i, \\hat{\\vec{c}}(i-1)))}{d\\varepsilon}|_{\\varepsilon = \\varepsilon(i, \\hat{\\vec{c}}(i-1)))}= \\left\\{\n",
    "    \\begin{array}\\\\\n",
    "        -\\Delta, & \\varepsilon(i) \\leq -\\Delta \\\\\n",
    "        \\varepsilon(i, \\hat{\\vec{c}}(i-1))), & -\\Delta \\leq |\\varepsilon(i)| \\leq \\Delta\\\\\n",
    "        \\Delta, &  \\varepsilon(i) \\geq \\Delta\n",
    "    \\end{array}  \n",
    "\\right.\\end{equation}"
   ]
  },
  {
   "cell_type": "markdown",
   "metadata": {},
   "source": [
    "\\begin{equation} \\large  I_F=2(1-\\alpha)\\frac{\\Delta}{\\sigma^2_\\eta}f_N(\\frac{\\Delta}{\\sigma_\\eta})+(1-\\alpha)\\frac{1}{\\sqrt{2\\pi}\\sigma_\\eta}\\frac{1}{\\sigma^4_\\eta}\\int_{-\\Delta}^\\Delta \\eta^2exp(\\frac{-\\eta^2}{2\\sigma^2_\\eta})d\\eta\\end{equation}"
   ]
  },
  {
   "cell_type": "markdown",
   "metadata": {},
   "source": [
    "2. Для вычислении информации Фишера можно использовать модуль __sympy__ (https://docs.sympy.org/latest/modules/integrals/integrals.html)"
   ]
  },
  {
   "cell_type": "code",
   "execution_count": null,
   "metadata": {},
   "outputs": [],
   "source": []
  }
 ],
 "metadata": {
  "kernelspec": {
   "display_name": "Python 3",
   "language": "python",
   "name": "python3"
  },
  "language_info": {
   "codemirror_mode": {
    "name": "ipython",
    "version": 3
   },
   "file_extension": ".py",
   "mimetype": "text/x-python",
   "name": "python",
   "nbconvert_exporter": "python",
   "pygments_lexer": "ipython3",
   "version": "3.7.4"
  },
  "widgets": {
   "application/vnd.jupyter.widget-state+json": {
    "state": {},
    "version_major": 2,
    "version_minor": 0
   }
  }
 },
 "nbformat": 4,
 "nbformat_minor": 2
}
