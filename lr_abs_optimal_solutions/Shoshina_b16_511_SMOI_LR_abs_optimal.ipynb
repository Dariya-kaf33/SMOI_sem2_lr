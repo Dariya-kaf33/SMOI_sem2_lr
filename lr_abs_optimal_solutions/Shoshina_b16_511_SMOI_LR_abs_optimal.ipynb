{
 "cells": [
  {
   "cell_type": "markdown",
   "metadata": {},
   "source": [
    "### Лабораторная работа №4\n",
    "####  Исследование абсолютно-оптимальных рекуррентных алгоритмов"
   ]
  },
  {
   "cell_type": "markdown",
   "metadata": {},
   "source": [
    "Для оценки эффективности абсолютно-оптимальных алгоритмов рассмотрим задачу идентификации параметров линейного регрессионного объекта вида:\n",
    "\\begin{equation}y(i)=с_{0}+с_{1}u_{1}(i)+...+с_{4}u_{4}(i)+\\eta(i)\\end{equation}"
   ]
  },
  {
   "cell_type": "markdown",
   "metadata": {},
   "source": [
    "Пусть шум измерений $\\eta(i)$ имеет распределение Коши:\n",
    "\\begin{equation*}\n",
    "f(\\eta)=\\frac{1}{\\pi s}\\frac{1}{(1+(\\eta/s)^2)}\n",
    "\\end{equation*}"
   ]
  },
  {
   "cell_type": "code",
   "execution_count": 41,
   "metadata": {},
   "outputs": [],
   "source": [
    "import numpy as np\n",
    "import math\n",
    "import scipy.stats as st\n",
    "import matplotlib.pyplot as plt"
   ]
  },
  {
   "cell_type": "code",
   "execution_count": 42,
   "metadata": {},
   "outputs": [
    {
     "name": "stdout",
     "output_type": "stream",
     "text": [
      "[-12.7   4.3  -1.8   9.1   4. ]\n"
     ]
    }
   ],
   "source": [
    "# параметры объекта \n",
    "c0 = -12.7\n",
    "c1 = 4.3\n",
    "c2 = -1.8\n",
    "c3 = 9.1\n",
    "c4 = 2.4\n",
    "c_k = np.array([c0,c1,c2,c3,4])\n",
    "print(c_k)"
   ]
  },
  {
   "cell_type": "code",
   "execution_count": 43,
   "metadata": {},
   "outputs": [],
   "source": [
    "# количество измерений\n",
    "N=20000"
   ]
  },
  {
   "cell_type": "code",
   "execution_count": 44,
   "metadata": {},
   "outputs": [],
   "source": [
    "np.random.seed(42)"
   ]
  },
  {
   "cell_type": "code",
   "execution_count": 45,
   "metadata": {},
   "outputs": [],
   "source": [
    "# параметр распределения Коши\n",
    "s=0.1"
   ]
  },
  {
   "cell_type": "code",
   "execution_count": 46,
   "metadata": {},
   "outputs": [],
   "source": [
    "Noise=st.cauchy.rvs(loc=0, scale=s, size=N)"
   ]
  },
  {
   "cell_type": "code",
   "execution_count": 47,
   "metadata": {},
   "outputs": [],
   "source": [
    "Avg_U1=1\n",
    "Var_U1=50\n",
    "Avg_U2=1\n",
    "Var_U2=50\n",
    "Avg_U3=1\n",
    "Var_U3=50\n",
    "Avg_U4=1\n",
    "Var_U4=50"
   ]
  },
  {
   "cell_type": "code",
   "execution_count": 48,
   "metadata": {},
   "outputs": [],
   "source": [
    "# моделирование входов объекта\n",
    "U1=np.random.normal(Avg_U1,Var_U1,size=N)\n",
    "U2=np.random.normal(Avg_U2,Var_U2,size=N)\n",
    "U3=np.random.normal(Avg_U3,Var_U3,size=N)\n",
    "U4=np.random.normal(Avg_U4,Var_U4,size=N)"
   ]
  },
  {
   "cell_type": "code",
   "execution_count": 49,
   "metadata": {},
   "outputs": [],
   "source": [
    "# моделирование выхода объекта\n",
    "y=c0+c1*U1+c2*U2+c3*U3+c4*U4+Noise"
   ]
  },
  {
   "cell_type": "code",
   "execution_count": 50,
   "metadata": {},
   "outputs": [
    {
     "data": {
      "image/png": "[encoded data removed]",
      "text/plain": [
       "<Figure size 432x288 with 1 Axes>"
      ]
     },
     "metadata": {
      "needs_background": "light"
     },
     "output_type": "display_data"
    }
   ],
   "source": [
    "plt.plot(y)\n",
    "plt.show()"
   ]
  },
  {
   "cell_type": "markdown",
   "metadata": {},
   "source": [
    "#### Формирование алгоритма идентификации\n",
    "\n",
    "В зависимости от того, насколько хорошо изучен «объект» идентификации, могут возникнуть следующие ситуации:\n",
    "\n",
    "1. Объект изучен хорошо, правильно определена плотность распределения шума, т.е. принятая и реальная плотности распределения совпадают и на основе принятой функции распределения формируется оптимальная функция потерь.\n",
    "\n",
    "\n",
    "2. Объект изучен плохо. При этом, как правило, считают, что плотность распределения шума соответствует нормальному закону распределения, хотя на самом деле(в данном случаем, см. описание объекта выше) шум имеет распределение Коши. Таким образом, опираясь на ложную гипотезу о нормальном распределении шума, в качестве функции потерь выбирается квадратичная функция."
   ]
  },
  {
   "cell_type": "markdown",
   "metadata": {},
   "source": [
    "Предлагается реализовать абсолютно-оптимальный рекуррентный алгоритм оценивания параметров объекта для каждой из ситуаций. Для   оценки   эффективности использования абсолютно-оптимальных  рекуррентных  алгоритмов  проводилось сравнение сглаженной ошибки оценки параметров объекта,определенных когда объект изучили хорошо и когда плохо, при  различных  значениях  параметра  распределения Коши — s."
   ]
  },
  {
   "cell_type": "markdown",
   "metadata": {},
   "source": [
    "#### В первом случае рекуррентный алгоритм принимает вид:\n",
    "\\begin{equation}\\hat{\\vec{c}}(i)=\\hat{\\vec{c}}(i-1)+Г(i)\\frac{2(y(i)-\\hat{c}_{0}(i-1)u_{0}(i)-...-\\hat{c}_{4}(i-1)u_{4}(i))}{s^2+(y(i)-\\hat{c}_{0}(i-1)u_{0}(i)-...-\\hat{c}_{4}(i-1)u_{4}(i))^2}\\vec{z}(i) \\\\\n",
    "Г(i)=Г(i-1)-\\frac{Г(i-1)\\vec{z}(i)\\vec{z}(i)^TГ(i-1)}{2s^2+\\vec{z}^T(i)Г(i-1)\\vec{z}(i)} \\\\\n",
    "Г(0)=\\lambda I, \\lambda=0.1\\\\\n",
    "\\hat{\\vec{c}}(0)=\\vec{c}_{0}\\end{equation}"
   ]
  },
  {
   "cell_type": "code",
   "execution_count": 51,
   "metadata": {},
   "outputs": [
    {
     "name": "stdout",
     "output_type": "stream",
     "text": [
      "20000\n",
      "[[-12   4  -2   9   4]]\n",
      "[-12.7   4.3  -1.8   9.1   4. ]\n",
      "[[-11.99946101   4.00001289  -1.99994407   9.00007376   3.99987095]]\n",
      "[[-0.00270218 -0.12784216  0.00831226  0.02557799 -0.08723051]]\n",
      "[[70.037      67.33823602]\n",
      " [67.33823602 64.79664401]]\n"
     ]
    }
   ],
   "source": [
    "#1 случай\n",
    "c_0 = np.array([[-12,4,-2,9,4]])\n",
    "G_0 = 0.1*np.eye(5)\n",
    "G = [G_0]\n",
    "c= [c_0]\n",
    "\n",
    "for i in range(1,len(y)):\n",
    "    z_i = np.array([[1, U1[i], U2[i], U3[i], U4[i]]]).transpose()\n",
    "    u_i = np.array([[1, U1[i], U2[i], U3[i], U4[i]]]).transpose()\n",
    "    G_i = G[i-1] - G[i-1].dot(z_i).dot(z_i.transpose()).dot(G[i-1])/(2*s**2 + z_i.transpose().dot(G[i-1]).dot(z_i))\n",
    "    chisl = 2*(y[i]-c[i-1].dot(u_i))\n",
    "    znam = s**2 + (y[i] - c[i-1].dot(u_i))**2\n",
    "    #print((G_i*(chisl/znam)).dot(z_i).transpose())\n",
    "    c_i = c[i-1] + (G_i*(chisl/znam)).dot(z_i).transpose()\n",
    "        \n",
    "    c.append(c_i)\n",
    "    G.append(G_i)\n",
    "\n",
    "err_Cash = []\n",
    "print(len(c))\n",
    "for i in range(10,len(c)):\n",
    "    t = 0\n",
    "    for j in range(1,11):\n",
    "        for r in range(len(c[1][0])):\n",
    "            #print(c[1][0][r]*(i-j))\n",
    "            t +=(c[i-j][0][r]-c_k[r])**2\n",
    "    err_Cash.append(math.sqrt(t/10))\n",
    "\n",
    "print(c[0])\n",
    "print(c_k)\n",
    "print(c[len(c)-1])\n",
    "# plt.plot(err_Cash[10:])\n",
    "# plt.show()\n",
    "print(\"[[-0.00270218 -0.12784216  0.00831226  0.02557799 -0.08723051]]\")\n",
    "print(np.cov(c_k,c[len(c) - 1]))"
   ]
  },
  {
   "cell_type": "code",
   "execution_count": 52,
   "metadata": {},
   "outputs": [
    {
     "name": "stdout",
     "output_type": "stream",
     "text": [
      "[[-12   4  -2   9   4]]\n",
      "[-12.7   4.3  -1.8   9.1   4. ]\n",
      "[[-12.91264157   4.30410575  -1.80213757   9.09723437   2.39921118]]\n"
     ]
    },
    {
     "data": {
      "image/png": "[encoded data removed]",
      "text/plain": [
       "<Figure size 432x288 with 1 Axes>"
      ]
     },
     "metadata": {
      "needs_background": "light"
     },
     "output_type": "display_data"
    },
    {
     "name": "stdout",
     "output_type": "stream",
     "text": [
      "[[70.037      69.37349498]\n",
      " [69.37349498 69.19736142]]\n",
      "0.7947892651319359\n"
     ]
    }
   ],
   "source": [
    "# 2 случай\n",
    "c_0 = np.array([[-12,4,-2,9,4]])\n",
    "G_0 = 0.1*np.eye(5)\n",
    "G = [G_0]\n",
    "c= [c_0]\n",
    "\n",
    "for i in range(1,len(y)):\n",
    "    z_i = np.array([[1, U1[i], U2[i], U3[i], U4[i]]]).transpose()\n",
    "    u_i = np.array([[1, U1[i], U2[i], U3[i], U4[i]]]).transpose()\n",
    "    G_i = G[i-1] - G[i-1].dot(z_i).dot(z_i.transpose()).dot(G[i-1])/(1 + z_i.transpose().dot(G[i-1]).dot(z_i))\n",
    "    chisl = y[i]-c[i-1].dot(u_i)\n",
    "    #print((G_i*chisl).dot(z_i).transpose())\n",
    "    c_i = c[i-1] + (G_i*chisl).dot(z_i).transpose()\n",
    "        \n",
    "    c.append(c_i)\n",
    "    G.append(G_i)\n",
    " \n",
    "\n",
    "err = []\n",
    "\n",
    "for i in range(10,len(c)):\n",
    "    t = 0\n",
    "    for j in range(1,11):\n",
    "        for r in range(len(c[1][0])):\n",
    "            #print(c[1][0][r]*(i-j))\n",
    "            t +=(c[i-j][0][r]-c_k[r])**2\n",
    "    err.append(math.sqrt(t/10))\n",
    "    \n",
    "\n",
    "print(c[0])\n",
    "print(c_k)\n",
    "print(c[len(c)-1])\n",
    "plt.title(\"Сглаженная ошибка, 200 измерений, s = 10\")\n",
    "plt.plot(err[10:200], label =\"case 2\")\n",
    "plt.plot(err_Cash[10:200], label =\"case 1\")\n",
    "plt.legend()\n",
    "plt.show()\n",
    "print(np.cov(c_k,c[len(c) - 1]))\n",
    "print(max(err_Cash))"
   ]
  },
  {
   "cell_type": "markdown",
   "metadata": {},
   "source": [
    "#### Во втором случае рекуррентный алгоритм принимает вид:\n",
    "\\begin{equation}\\hat{\\vec{c}}(i)=\\hat{\\vec{c}}(i-1)+Г(i)\\vec{z}(i)(y(i)-\\hat{c}_{0}(i-1)u_{0}(i)-...-\\hat{c}_{4}(i-1)u_{4}(i)) \\\\\n",
    "Г(i)=Г(i-1)-\\frac{Г(i-1)\\vec{z}(i)\\vec{z}(i)^TГ(i-1)}{1+\\vec{z}^T(i)Г(i-1)\\vec{z}(i)} \\\\\n",
    "Г(0)=\\lambda I , \\lambda=0.1    \\\\\n",
    "\\hat{\\vec{c}}(0)=\\vec{c}_{0}\\end{equation}"
   ]
  },
  {
   "cell_type": "markdown",
   "metadata": {},
   "source": [
    "Сглаженная ошибка оценки вычисляется по формуле:\n",
    "\\begin{equation*}\n",
    "err_{сгл}=\\sqrt{\\frac{\\sum_{j=1}^{10}\\sum_{k=0}^4(\\hat{c}_{k}(i-j)-c_{k})^2}{10}} ; i=10,11,12...\n",
    "\\end{equation*}"
   ]
  },
  {
   "cell_type": "code",
   "execution_count": 53,
   "metadata": {},
   "outputs": [
    {
     "name": "stdout",
     "output_type": "stream",
     "text": [
      "[[ 2.00000000e-02  1.70529046e-01  5.90624321e-02 -2.36116064e+00\n",
      "   3.31334316e+00]\n",
      " [ 1.70529046e-01  1.45400778e+00  5.03593010e-01 -2.01323235e+01\n",
      "   2.82510624e+01]\n",
      " [ 5.90624321e-02  5.03593010e-01  1.74418544e-01 -6.97279449e+00\n",
      "   9.78470528e+00]\n",
      " [-2.36116064e+00 -2.01323235e+01 -6.97279449e+00  2.78753977e+02\n",
      "  -3.91166772e+02]\n",
      " [ 3.31334316e+00  2.82510624e+01  9.78470528e+00 -3.91166772e+02\n",
      "   5.48912145e+02]]\n"
     ]
    }
   ],
   "source": [
    "A = z_i.dot(z_i.transpose())\n",
    "print(2*s**2*A)\n"
   ]
  },
  {
   "cell_type": "code",
   "execution_count": 54,
   "metadata": {},
   "outputs": [
    {
     "data": {
      "image/png": "[encoded data removed]",
      "text/plain": [
       "<Figure size 432x288 with 1 Axes>"
      ]
     },
     "metadata": {
      "needs_background": "light"
     },
     "output_type": "display_data"
    }
   ],
   "source": [
    "plt.title(\"Сглаженная ошибка, 20000 измерений, s = 0.1\")\n",
    "plt.plot(err_Cash[10:20000], label =\"case 1\")\n",
    "plt.legend()\n",
    "plt.show()"
   ]
  },
  {
   "cell_type": "code",
   "execution_count": null,
   "metadata": {},
   "outputs": [],
   "source": []
  }
 ],
 "metadata": {
  "celltoolbar": "Raw Cell Format",
  "kernelspec": {
   "display_name": "Python 3",
   "language": "python",
   "name": "python3"
  },
  "language_info": {
   "codemirror_mode": {
    "name": "ipython",
    "version": 3
   },
   "file_extension": ".py",
   "mimetype": "text/x-python",
   "name": "python",
   "nbconvert_exporter": "python",
   "pygments_lexer": "ipython3",
   "version": "3.7.3"
  }
 },
 "nbformat": 4,
 "nbformat_minor": 2
}
