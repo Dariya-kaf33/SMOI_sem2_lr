{
 "cells": [
  {
   "cell_type": "markdown",
   "metadata": {},
   "source": [
    "### Лабораторная работа №4\n",
    "####  Исследование абсолютно-оптимальных рекуррентных алгоритмов"
   ]
  },
  {
   "cell_type": "markdown",
   "metadata": {},
   "source": [
    "Для оценки эффективности абсолютно-оптимальных алгоритмов рассмотрим задачу идентификации параметров линейного регрессионного объекта вида:\n",
    "\\begin{equation}y(i)=с_{0}+с_{1}u_{1}(i)+...+с_{4}u_{4}(i)+\\eta(i)\\end{equation}"
   ]
  },
  {
   "cell_type": "markdown",
   "metadata": {},
   "source": [
    "Пусть шум измерений $\\eta(i)$ имеет распределение Коши:\n",
    "\\begin{equation*}\n",
    "f(\\eta)=\\frac{1}{\\pi s}\\frac{1}{(1+(\\eta/s)^2)}\n",
    "\\end{equation*}"
   ]
  },
  {
   "cell_type": "code",
   "execution_count": 117,
   "metadata": {},
   "outputs": [],
   "source": [
    "import numpy as np\n",
    "import scipy.stats as st\n",
    "import matplotlib.pyplot as plt\n",
    "import math"
   ]
  },
  {
   "cell_type": "code",
   "execution_count": 118,
   "metadata": {},
   "outputs": [],
   "source": [
    "c0=9\n",
    "c1=2\n",
    "c2=3\n",
    "c3=1\n",
    "c4=4"
   ]
  },
  {
   "cell_type": "code",
   "execution_count": 119,
   "metadata": {},
   "outputs": [],
   "source": [
    "# количество измерений\n",
    "N=200"
   ]
  },
  {
   "cell_type": "code",
   "execution_count": 120,
   "metadata": {},
   "outputs": [],
   "source": [
    "np.random.seed(111)"
   ]
  },
  {
   "cell_type": "code",
   "execution_count": 121,
   "metadata": {},
   "outputs": [],
   "source": [
    "# параметр распределения Коши\n",
    "s=10"
   ]
  },
  {
   "cell_type": "code",
   "execution_count": 122,
   "metadata": {},
   "outputs": [],
   "source": [
    "Noise=st.cauchy.rvs(loc=0, scale=s, size=N)"
   ]
  },
  {
   "cell_type": "code",
   "execution_count": 123,
   "metadata": {},
   "outputs": [],
   "source": [
    "# параметры распределения для генерации «входов» объекта:\n",
    "Avg_U1=1\n",
    "Var_U1=50\n",
    "Avg_U2=1\n",
    "Var_U2=50\n",
    "Avg_U3=1\n",
    "Var_U3=50\n",
    "Avg_U4=1\n",
    "Var_U4=50"
   ]
  },
  {
   "cell_type": "code",
   "execution_count": 124,
   "metadata": {},
   "outputs": [],
   "source": [
    "# моделирование входов объекта\n",
    "U1=np.random.normal(Avg_U1, Var_U1, size=N)\n",
    "U2=np.random.normal(Avg_U2, Var_U2, size=N)\n",
    "U3=np.random.normal(Avg_U3, Var_U3, size=N)\n",
    "U4=np.random.normal(Avg_U4, Var_U4, size=N)"
   ]
  },
  {
   "cell_type": "code",
   "execution_count": 125,
   "metadata": {},
   "outputs": [],
   "source": [
    "# моделирование выхода объекта\n",
    "y = c0 + c1*U1 + c2*U2 + c3*U3 + c4*U4 + Noise"
   ]
  },
  {
   "cell_type": "code",
   "execution_count": 126,
   "metadata": {},
   "outputs": [
    {
     "data": {
      "image/png": "[encoded data removed]",
      "text/plain": [
       "<Figure size 432x288 with 1 Axes>"
      ]
     },
     "metadata": {
      "needs_background": "light"
     },
     "output_type": "display_data"
    }
   ],
   "source": [
    "plt.plot(y)\n",
    "plt.show()"
   ]
  },
  {
   "cell_type": "markdown",
   "metadata": {},
   "source": [
    "#### Формирование алгоритма идентификации\n",
    "\n",
    "В зависимости от того, насколько хорошо изучен «объект» идентификации, могут возникнуть следующие ситуации:\n",
    "\n",
    "1. Объект изучен хорошо, правильно определена плотность распределения шума, т.е. принятая и реальная плотности распределения совпадают и на основе принятой функции распределения формируется оптимальная функция потерь.\n",
    "\n",
    "\n",
    "2. Объект изучен плохо. При этом, как правило, считают, что плотность распределения шума соответствует нормальному закону распределения, хотя на самом деле(в данном случаем, см. описание объекта выше) шум имеет распределение Коши. Таким образом, опираясь на ложную гипотезу о нормальном распределении шума, в качестве функции потерь выбирается квадратичная функция."
   ]
  },
  {
   "cell_type": "markdown",
   "metadata": {},
   "source": [
    "Предлагается реализовать абсолютно-оптимальный рекуррентный алгоритм оценивания параметров объекта для каждой из ситуаций. Для   оценки   эффективности использования абсолютно-оптимальных  рекуррентных  алгоритмов  проводилось сравнение сглаженной ошибки оценки параметров объекта,определенных когда объект изучили хорошо и когда плохо, при  различных  значениях  параметра  распределения Коши — s."
   ]
  },
  {
   "cell_type": "markdown",
   "metadata": {},
   "source": [
    "#### В первом случае рекуррентный алгоритм принимает вид:\n",
    "\\begin{equation}\\hat{\\vec{c}}(i)=\\hat{\\vec{c}}(i-1)+Г(i)\\frac{2(y(i)-\\hat{c}_{0}(i-1)u_{0}(i)-...-\\hat{c}_{4}(i-1)u_{4}(i))}{s^2+(y(i)-\\hat{c}_{0}(i-1)u_{0}(i)-...-\\hat{c}_{4}(i-1)u_{4}(i))^2}\\vec{z}(i) \\\\\n",
    "Г(i)=Г(i-1)-\\frac{Г(i-1)\\vec{z}(i)\\vec{z}(i)^TГ(i-1)}{2s^2+\\vec{z}^T(i)Г(i-1)\\vec{z}(i)} \\\\\n",
    "Г(0)=\\lambda I, \\lambda=0.1\\\\\n",
    "\\hat{\\vec{c}}(0)=\\vec{c}_{0}\\end{equation}"
   ]
  },
  {
   "cell_type": "code",
   "execution_count": 127,
   "metadata": {},
   "outputs": [
    {
     "name": "stdout",
     "output_type": "stream",
     "text": [
      "[8.08260998 1.06483697 3.74858773 1.82221664 4.51530879]\n"
     ]
    }
   ],
   "source": [
    "lyambda = 0.1\n",
    "I = np.eye(5)\n",
    "G = lyambda*I\n",
    "\n",
    "c_1 = np.array(range(N*5), dtype = np.double)\n",
    "c_1.shape = (N,5) \n",
    "c_1[0] = [8, 1, 4, 2, 4.5]\n",
    "\n",
    "i = 1\n",
    "while i<N:\n",
    "    z = np.asmatrix([1, U1[i], U2[i], U3[i], U4[i]]).transpose()\n",
    "    G = G - (G*z*z.getT()*G) / (2*pow(s,2) + z.getT()*G*z)\n",
    "    c_1[i] = c_1[i-1] + (G*(2*(y[i] - c_1[i-1][0] - c_1[i-1][1]*U1[i] - c_1[i-1][2]*U2[i] - c_1[i-1][3]*U3[i] - c_1[i-1][4]*U4[i]))/(pow(s,2) + pow(y[i] - c_1[i-1][0] - c_1[i-1][1]*U1[i] - c_1[i-1][2]*U2[i] - c_1[i-1][3]*U3[i] - c_1[i-1][4]*U4[i], 2))*z).getT()\n",
    "    i = i + 1\n",
    "    \n",
    "print(c_1[N-1])"
   ]
  },
  {
   "cell_type": "markdown",
   "metadata": {},
   "source": [
    "#### Во втором случае рекуррентный алгоритм принимает вид:\n",
    "\\begin{equation}\\hat{\\vec{c}}(i)=\\hat{\\vec{c}}(i-1)+Г(i)\\vec{z}(i)(y(i)-\\hat{c}_{0}(i-1)u_{0}(i)-...-\\hat{c}_{4}(i-1)u_{4}(i)) \\\\\n",
    "Г(i)=Г(i-1)-\\frac{Г(i-1)\\vec{z}(i)\\vec{z}(i)^TГ(i-1)}{1+\\vec{z}^T(i)Г(i-1)\\vec{z}(i)} \\\\\n",
    "Г(0)=\\lambda I , \\lambda=0.1    \\\\\n",
    "\\hat{\\vec{c}}(0)=\\vec{c}_{0}\\end{equation}"
   ]
  },
  {
   "cell_type": "code",
   "execution_count": 128,
   "metadata": {},
   "outputs": [
    {
     "name": "stdout",
     "output_type": "stream",
     "text": [
      "[19.42874931  2.16618805  2.86049811  0.85130427  4.15245804]\n"
     ]
    }
   ],
   "source": [
    "lyambda = 0.1\n",
    "I = np.eye(5)\n",
    "G = lyambda*I\n",
    "\n",
    "c_2 = np.array(range(N*5), dtype = np.double)\n",
    "c_2.shape = (N,5) \n",
    "c_2[0] = [8, 1, 4, 2, 4.5]\n",
    "\n",
    "i = 1\n",
    "while i<N:\n",
    "    z = np.asmatrix([1, U1[i], U2[i], U3[i], U4[i]]).transpose()\n",
    "    G = G - (G*z*z.getT()*G)/(1 + z.getT()*G*z)\n",
    "    c_2[i] = c_2[i-1] + (G*z*(y[i] - c_2[i-1][0] - c_2[i-1][1]*U1[i] - c_2[i-1][2]*U2[i] - c_2[i-1][3]*U3[i] - c_2[i-1][4]*U4[i])).getT()\n",
    "    i = i + 1\n",
    "    \n",
    "print(c_2[N-1])"
   ]
  },
  {
   "cell_type": "markdown",
   "metadata": {},
   "source": [
    "Сглаженная ошибка оценки вычисляется по формуле:\n",
    "\\begin{equation*}\n",
    "err_{сгл}=\\sqrt{\\frac{\\sum_{j=1}^{10}\\sum_{k=0}^4(\\hat{c}_{k}(i-j)-c_{k})^2}{10}} ; i=10,11,12...\n",
    "\\end{equation*}"
   ]
  },
  {
   "cell_type": "code",
   "execution_count": 129,
   "metadata": {},
   "outputs": [
    {
     "data": {
      "image/png": "[encoded data removed]",
      "text/plain": [
       "<Figure size 432x288 with 1 Axes>"
      ]
     },
     "metadata": {
      "needs_background": "light"
     },
     "output_type": "display_data"
    }
   ],
   "source": [
    "def get_error(c, c_or, N):\n",
    "    err = np.array(range(N-10), dtype = np.double)\n",
    "    err.shape = (N-10, 1)\n",
    "    sqr = 0\n",
    "        \n",
    "    for i in range(10,N):\n",
    "        sqr = 0\n",
    "        for j in range(1,10):\n",
    "            for k in range(0,4):\n",
    "                sqr += pow((c[i-j][k]-c_or[k]),2)\n",
    "        err[i-10] = math.sqrt(sqr/10)\n",
    "    return err\n",
    "\n",
    "err1 = get_error(c_1, [c0,c1,c2,c3,c4], N)\n",
    "err2 = get_error(c_2, [c0,c1,c2,c3,c4], N)\n",
    "\n",
    "plt.plot(err1)\n",
    "plt.plot(err2)\n",
    "plt.show()"
   ]
  },
  {
   "cell_type": "code",
   "execution_count": null,
   "metadata": {},
   "outputs": [],
   "source": []
  },
  {
   "cell_type": "code",
   "execution_count": null,
   "metadata": {},
   "outputs": [],
   "source": []
  },
  {
   "cell_type": "code",
   "execution_count": null,
   "metadata": {},
   "outputs": [],
   "source": []
  }
 ],
 "metadata": {
  "kernelspec": {
   "display_name": "Python 3",
   "language": "python",
   "name": "python3"
  },
  "language_info": {
   "codemirror_mode": {
    "name": "ipython",
    "version": 3
   },
   "file_extension": ".py",
   "mimetype": "text/x-python",
   "name": "python",
   "nbconvert_exporter": "python",
   "pygments_lexer": "ipython3",
   "version": "3.7.1"
  }
 },
 "nbformat": 4,
 "nbformat_minor": 2
}
