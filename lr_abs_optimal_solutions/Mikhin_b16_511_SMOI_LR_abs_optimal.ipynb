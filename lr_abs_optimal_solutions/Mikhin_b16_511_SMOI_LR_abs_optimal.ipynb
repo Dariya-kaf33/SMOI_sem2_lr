{
 "cells": [
  {
   "cell_type": "markdown",
   "metadata": {},
   "source": [
    "### Лабораторная работа №4\n",
    "####  Исследование абсолютно-оптимальных рекуррентных алгоритмов"
   ]
  },
  {
   "cell_type": "markdown",
   "metadata": {},
   "source": [
    "Для оценки эффективности абсолютно-оптимальных алгоритмов рассмотрим задачу идентификации параметров линейного регрессионного объекта вида:\n",
    "\\begin{equation}y(i)=с_{0}+с_{1}u_{1}(i)+...+с_{4}u_{4}(i)+\\eta(i)\\end{equation}"
   ]
  },
  {
   "cell_type": "markdown",
   "metadata": {},
   "source": [
    "Пусть шум измерений $\\eta(i)$ имеет распределение Коши:\n",
    "\\begin{equation*}\n",
    "f(\\eta)=\\frac{1}{\\pi s}\\frac{1}{(1+(\\eta/s)^2)}\n",
    "\\end{equation*}"
   ]
  },
  {
   "cell_type": "code",
   "execution_count": 1,
   "metadata": {},
   "outputs": [],
   "source": [
    "import numpy as np\n",
    "import scipy.stats as st\n",
    "import matplotlib.pyplot as plt"
   ]
  },
  {
   "cell_type": "code",
   "execution_count": 2,
   "metadata": {},
   "outputs": [],
   "source": [
    "# параметры объекта \n",
    "c0=-12.7\n",
    "c1=4.3\n",
    "c2=-1.8\n",
    "c3=9.1\n",
    "c4=2.4"
   ]
  },
  {
   "cell_type": "code",
   "execution_count": 3,
   "metadata": {},
   "outputs": [],
   "source": [
    "# количество измерений\n",
    "N=200"
   ]
  },
  {
   "cell_type": "code",
   "execution_count": 4,
   "metadata": {},
   "outputs": [],
   "source": [
    "np.random.seed(42)"
   ]
  },
  {
   "cell_type": "code",
   "execution_count": 5,
   "metadata": {},
   "outputs": [],
   "source": [
    "# параметр распределения Коши\n",
    "s=100"
   ]
  },
  {
   "cell_type": "code",
   "execution_count": 6,
   "metadata": {},
   "outputs": [],
   "source": [
    "Noise=st.cauchy.rvs(loc=0, scale=s, size=N)"
   ]
  },
  {
   "cell_type": "code",
   "execution_count": 7,
   "metadata": {},
   "outputs": [],
   "source": [
    "Avg_U1=1\n",
    "Var_U1=50\n",
    "Avg_U2=1\n",
    "Var_U2=50\n",
    "Avg_U3=1\n",
    "Var_U3=50\n",
    "Avg_U4=1\n",
    "Var_U4=50"
   ]
  },
  {
   "cell_type": "code",
   "execution_count": 8,
   "metadata": {},
   "outputs": [],
   "source": [
    "# моделирование входов объекта\n",
    "U1=np.random.normal(Avg_U1,Var_U1,size=N)\n",
    "U2=np.random.normal(Avg_U2,Var_U2,size=N)\n",
    "U3=np.random.normal(Avg_U3,Var_U3,size=N)\n",
    "U4=np.random.normal(Avg_U4,Var_U4,size=N)"
   ]
  },
  {
   "cell_type": "code",
   "execution_count": 9,
   "metadata": {},
   "outputs": [],
   "source": [
    "# моделирование выхода объекта\n",
    "y=c0+c1*U1+c2*U2+c3*U3+c4*U4+Noise"
   ]
  },
  {
   "cell_type": "code",
   "execution_count": 10,
   "metadata": {},
   "outputs": [
    {
     "data": {
      "image/png": "[encoded data removed]",
      "text/plain": [
       "<Figure size 432x288 with 1 Axes>"
      ]
     },
     "metadata": {
      "needs_background": "light"
     },
     "output_type": "display_data"
    }
   ],
   "source": [
    "plt.plot(y)\n",
    "plt.show()"
   ]
  },
  {
   "cell_type": "markdown",
   "metadata": {},
   "source": [
    "#### Формирование алгоритма идентификации\n",
    "\n",
    "В зависимости от того, насколько хорошо изучен «объект» идентификации, могут возникнуть следующие ситуации:\n",
    "\n",
    "1. Объект изучен хорошо, правильно определена плотность распределения шума, т.е. принятая и реальная плотности распределения совпадают и на основе принятой функции распределения формируется оптимальная функция потерь.\n",
    "\n",
    "\n",
    "2. Объект изучен плохо. При этом, как правило, считают, что плотность распределения шума соответствует нормальному закону распределения, хотя на самом деле(в данном случаем, см. описание объекта выше) шум имеет распределение Коши. Таким образом, опираясь на ложную гипотезу о нормальном распределении шума, в качестве функции потерь выбирается квадратичная функция."
   ]
  },
  {
   "cell_type": "markdown",
   "metadata": {},
   "source": [
    "Предлагается реализовать абсолютно-оптимальный рекуррентный алгоритм оценивания параметров объекта для каждой из ситуаций. Для   оценки   эффективности использования абсолютно-оптимальных  рекуррентных  алгоритмов  проводилось сравнение сглаженной ошибки оценки параметров объекта,определенных когда объект изучили хорошо и когда плохо, при  различных  значениях  параметра  распределения Коши — s."
   ]
  },
  {
   "cell_type": "markdown",
   "metadata": {},
   "source": [
    "#### В первом случае рекуррентный алгоритм принимает вид:\n",
    "\\begin{equation}\\hat{\\vec{c}}(i)=\\hat{\\vec{c}}(i-1)+Г(i)\\frac{2(y(i)-\\hat{c}_{0}(i-1)u_{0}(i)-...-\\hat{c}_{4}(i-1)u_{4}(i))}{s^2+(y(i)-\\hat{c}_{0}(i-1)u_{0}(i)-...-\\hat{c}_{4}(i-1)u_{4}(i))^2}\\vec{z}(i) \\\\\n",
    "Г(i)=Г(i-1)-\\frac{Г(i-1)\\vec{z}(i)\\vec{z}(i)^TГ(i-1)}{2s^2+\\vec{z}^T(i)Г(i-1)\\vec{z}(i)} \\\\\n",
    "Г(0)=\\lambda I, \\lambda=0.1\\\\\n",
    "\\hat{\\vec{c}}(0)=\\vec{c}_{0}\\end{equation}"
   ]
  },
  {
   "cell_type": "code",
   "execution_count": 11,
   "metadata": {},
   "outputs": [
    {
     "name": "stdout",
     "output_type": "stream",
     "text": [
      "[-12.7079552    4.38692006  -1.75279415   9.18501249   2.59237835]\n"
     ]
    }
   ],
   "source": [
    "l = 0.1\n",
    "I = np.eye(5)\n",
    "G = l*I\n",
    "c = np.array(range(N*5), dtype = np.double)\n",
    "c.shape = (N,5) \n",
    "c[0] = [c0, c1, c2, c3, c4]\n",
    "\n",
    "for i in range(1,N):\n",
    "    z = np.matrix([1, U1[i], U2[i], U3[i], U4[i]]).T\n",
    "    G = G - (G*z*z.T*G)/(2*s**2+z.T*G*z)\n",
    "    polynom = y[i]-c[i-1][0]-c[i-1][1]*U1[i]-c[i-1][2]*U2[i]-c[i-1][3]*U3[i]-c[i-1][4]*U4[i]\n",
    "    c[i] = c[i-1] + (G*(2*polynom)/(s**2 + polynom**2)*z).T\n",
    "print(c[N-1])\n",
    "    "
   ]
  },
  {
   "cell_type": "markdown",
   "metadata": {},
   "source": [
    "#### Во втором случае рекуррентный алгоритм принимает вид:\n",
    "\\begin{equation}\\hat{\\vec{c}}(i)=\\hat{\\vec{c}}(i-1)+Г(i)\\vec{z}(i)(y(i)-\\hat{c}_{0}(i-1)u_{0}(i)-...-\\hat{c}_{4}(i-1)u_{4}(i)) \\\\\n",
    "Г(i)=Г(i-1)-\\frac{Г(i-1)\\vec{z}(i)\\vec{z}(i)^TГ(i-1)}{1+\\vec{z}^T(i)Г(i-1)\\vec{z}(i)} \\\\\n",
    "Г(0)=\\lambda I , \\lambda=0.1    \\\\\n",
    "\\hat{\\vec{c}}(0)=\\vec{c}_{0}\\end{equation}"
   ]
  },
  {
   "cell_type": "code",
   "execution_count": 12,
   "metadata": {},
   "outputs": [
    {
     "name": "stdout",
     "output_type": "stream",
     "text": [
      "[-58.38726386   3.56981667  -1.45529032   7.48914971   2.36872112]\n"
     ]
    }
   ],
   "source": [
    "l = 0.1\n",
    "I = np.eye(5)\n",
    "G = l*I\n",
    "c_2 = np.array(range(N*5), dtype = np.double)\n",
    "c_2.shape = (N,5) \n",
    "c_2[0] = [c0, c1, c2, c3, c4]\n",
    "\n",
    "for i in range(1,N):\n",
    "    z = np.matrix([1, U1[i], U2[i], U3[i], U4[i]]).T\n",
    "    G = G - G*z*z.T*G/(1 + z.T*G*z)\n",
    "    c_2[i] = c_2[i-1] + (G*z*(y[i] - c_2[i-1][0] - c_2[i-1][1]*U1[i] - c_2[i-1][2]*U2[i] - c_2[i-1][3]*U3[i] - c_2[i-1][4]*U4[i])).T\n",
    "print(c_2[N-1])"
   ]
  },
  {
   "cell_type": "markdown",
   "metadata": {},
   "source": [
    "Сглаженная ошибка оценки вычисляется по формуле:\n",
    "\\begin{equation*}\n",
    "err_{сгл}=\\sqrt{\\frac{\\sum_{j=1}^{10}\\sum_{k=0}^4(\\hat{c}_{k}(i-j)-c_{k})^2}{10}} ; i=10,11,12...\n",
    "\\end{equation*}"
   ]
  },
  {
   "cell_type": "code",
   "execution_count": 13,
   "metadata": {},
   "outputs": [
    {
     "data": {
      "text/plain": [
       "<matplotlib.legend.Legend at 0x11abe0f60>"
      ]
     },
     "execution_count": 13,
     "metadata": {},
     "output_type": "execute_result"
    },
    {
     "data": {
      "image/png": "[encoded data removed]",
      "text/plain": [
       "<Figure size 432x288 with 1 Axes>"
      ]
     },
     "metadata": {
      "needs_background": "light"
     },
     "output_type": "display_data"
    }
   ],
   "source": [
    "err_1 = np.array(range(N-10), dtype = np.double)\n",
    "err_2 = np.array(range(N-10), dtype = np.double)\n",
    "c_n = [c0,c1,c2,c3,c4]\n",
    "\n",
    "\n",
    "def error(c):\n",
    "    err = np.array(range(N-10), dtype = np.double)\n",
    "    err.shape = (N-10, 1)\n",
    "    s = 0\n",
    "    \n",
    "    for i in range(10,N):\n",
    "        s = 0\n",
    "        for j in range(1,10):\n",
    "            for k in range(0,4):\n",
    "                s += pow((c[i-j][k]-c_n[k]),2)\n",
    "        err[i-10] = np.sqrt(s/10)\n",
    "    return err\n",
    "    \n",
    "plt.plot(error(c),label='метод 1')\n",
    "plt.plot(error(c_2),label='метод 2')\n",
    "plt.legend()\n"
   ]
  },
  {
   "cell_type": "code",
   "execution_count": null,
   "metadata": {},
   "outputs": [],
   "source": []
  },
  {
   "cell_type": "code",
   "execution_count": null,
   "metadata": {},
   "outputs": [],
   "source": []
  },
  {
   "cell_type": "code",
   "execution_count": null,
   "metadata": {},
   "outputs": [],
   "source": []
  }
 ],
 "metadata": {
  "kernelspec": {
   "display_name": "Python 3",
   "language": "python",
   "name": "python3"
  },
  "language_info": {
   "codemirror_mode": {
    "name": "ipython",
    "version": 3
   },
   "file_extension": ".py",
   "mimetype": "text/x-python",
   "name": "python",
   "nbconvert_exporter": "python",
   "pygments_lexer": "ipython3",
   "version": "3.7.0"
  }
 },
 "nbformat": 4,
 "nbformat_minor": 2
}
