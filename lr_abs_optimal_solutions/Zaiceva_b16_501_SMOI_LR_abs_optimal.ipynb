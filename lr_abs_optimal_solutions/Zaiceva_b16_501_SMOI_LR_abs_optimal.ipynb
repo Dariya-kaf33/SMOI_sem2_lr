{
 "cells": [
  {
   "cell_type": "markdown",
   "metadata": {},
   "source": [
    "### Лабораторная работа №4\n",
    "####  Исследование абсолютно-оптимальных рекуррентных алгоритмов"
   ]
  },
  {
   "cell_type": "markdown",
   "metadata": {},
   "source": [
    "Для оценки эффективности абсолютно-оптимальных алгоритмов рассмотрим задачу идентификации параметров линейного регрессионного объекта вида:\n",
    "\\begin{equation}y(i)=с_{0}+с_{1}u_{1}(i)+...+с_{4}u_{4}(i)+\\eta(i)\\end{equation}"
   ]
  },
  {
   "cell_type": "markdown",
   "metadata": {},
   "source": [
    "Пусть шум измерений $\\eta(i)$ имеет распределение Коши:\n",
    "\\begin{equation*}\n",
    "f(\\eta)=\\frac{1}{\\pi s}\\frac{1}{(1+(\\eta/s)^2)}\n",
    "\\end{equation*}"
   ]
  },
  {
   "cell_type": "code",
   "execution_count": 52,
   "metadata": {},
   "outputs": [],
   "source": [
    "import numpy as np\n",
    "import scipy.stats as st\n",
    "import matplotlib.pyplot as plt"
   ]
  },
  {
   "cell_type": "code",
   "execution_count": 53,
   "metadata": {},
   "outputs": [],
   "source": [
    "np.random.seed(42)"
   ]
  },
  {
   "cell_type": "code",
   "execution_count": 54,
   "metadata": {},
   "outputs": [],
   "source": [
    "# параметры объекта с_=[c0,c1,c2,c3,c4]\n",
    "c_=[1.5,0.2,-0.1,0.3,1]\n",
    "N = 200\n",
    "s = 10"
   ]
  },
  {
   "cell_type": "code",
   "execution_count": 55,
   "metadata": {},
   "outputs": [],
   "source": [
    "var = 30\n",
    "avg = 1\n",
    "Avg_U1 = avg\n",
    "Var_U1 = var\n",
    "Avg_U2 = avg\n",
    "Var_U2 = var\n",
    "Avg_U3 = avg\n",
    "Var_U3 = var\n",
    "Avg_U4 = avg\n",
    "Var_U4 = var"
   ]
  },
  {
   "cell_type": "code",
   "execution_count": 56,
   "metadata": {},
   "outputs": [],
   "source": [
    "Noise=st.cauchy.rvs(loc=0, scale=s, size=N)\n",
    "# моделирование входов объекта\n",
    "U1=np.random.normal(Avg_U1,Var_U1,size=N)\n",
    "U2=np.random.normal(Avg_U2,Var_U2,size=N)\n",
    "U3=np.random.normal(Avg_U3,Var_U3,size=N)\n",
    "U4=np.random.normal(Avg_U4,Var_U4,size=N)\n"
   ]
  },
  {
   "cell_type": "code",
   "execution_count": 57,
   "metadata": {},
   "outputs": [],
   "source": [
    "# моделирование выхода объекта\n",
    "# y=с0+с1*U1+с2*U2+с3*U3+с4*U4+\n",
    "c_=[1.5,0.2,-0.1,0.3,1]\n",
    "y=c_[0]+c_[1]*U1+c_[2]*U2+c_[3]*U3+c_[4]*U4+Noise"
   ]
  },
  {
   "cell_type": "code",
   "execution_count": 58,
   "metadata": {
    "scrolled": false
   },
   "outputs": [
    {
     "data": {
      "image/png": "[encoded data removed]",
      "text/plain": [
       "<Figure size 432x288 with 1 Axes>"
      ]
     },
     "metadata": {},
     "output_type": "display_data"
    }
   ],
   "source": [
    "plt.plot(y)\n",
    "plt.title(\"s=\"+str(s))\n",
    "plt.show()"
   ]
  },
  {
   "cell_type": "markdown",
   "metadata": {},
   "source": [
    "#### Формирование алгоритма идентификации\n",
    "\n",
    "В зависимости от того, насколько хорошо изучен «объект» идентификации, могут возникнуть следующие ситуации:\n",
    "\n",
    "1. Объект изучен хорошо, правильно определена плотность распределения шума, т.е. принятая и реальная плотности распределения совпадают и на основе принятой функции распределения формируется оптимальная функция потерь.\n",
    "\n",
    "\n",
    "2. Объект изучен плохо. При этом, как правило, считают, что плотность распределения шума соответствует нормальному закону распределения, хотя на самом деле(в данном случаем, см. описание объекта выше) шум имеет распределение Коши. Таким образом, опираясь на ложную гипотезу о нормальном распределении шума, в качестве функции потерь выбирается квадратичная функция."
   ]
  },
  {
   "cell_type": "markdown",
   "metadata": {},
   "source": [
    "Предлагается реализовать абсолютно-оптимальный рекуррентный алгоритм оценивания параметров объекта для каждой из ситуаций. Для   оценки   эффективности использования абсолютно-оптимальных  рекуррентных  алгоритмов  проводилось сравнение сглаженной ошибки оценки параметров объекта,определенных когда объект изучили хорошо и когда плохо, при  различных  значениях  параметра  распределения Коши — s."
   ]
  },
  {
   "cell_type": "markdown",
   "metadata": {},
   "source": [
    "#### В первом случае рекуррентный алгоритм принимает вид:\n",
    "\\begin{equation}\\hat{\\vec{c}}(i)=\\hat{\\vec{c}}(i-1)+Г(i)\\frac{2(y(i)-\\hat{c}_{0}(i-1)u_{0}(i)-...-\\hat{c}_{4}(i-1)u_{4}(i))}{s^2+(y(i)-\\hat{c}_{0}(i-1)u_{0}(i)-...-\\hat{c}_{4}(i-1)u_{4}(i))^2}\\vec{z}(i) \\\\\n",
    "Г(i)=Г(i-1)-\\frac{Г(i-1)\\vec{z}(i)\\vec{z}(i)^TГ(i-1)}{2s^2+\\vec{z}^T(i)Г(i-1)\\vec{z}(i)} \\\\\n",
    "Г(0)=\\lambda I, \\lambda=0.1\\\\\n",
    "\\hat{\\vec{c}}(0)=\\vec{c}_{0}\\end{equation}"
   ]
  },
  {
   "cell_type": "code",
   "execution_count": 59,
   "metadata": {},
   "outputs": [],
   "source": [
    "n = 5\n",
    "c_=[1.5,0.2,-0.1,0.3,1]\n",
    "c = [np.array([0,0,0,0,0])]*N\n",
    "c2 = [np.array([0,0,0,0,0])]*N\n",
    "G = [None]*N\n",
    "I = np.eye(n)\n",
    "lam = 0.1\n",
    "\n",
    "G[0] = lam*I\n",
    "c[0] = np.array([1.2,0.5,0.2,0.5,1.1])\n",
    "c2[0] = np.array([1.2,0.5,0.2,0.5,1.1])"
   ]
  },
  {
   "cell_type": "code",
   "execution_count": 60,
   "metadata": {
    "scrolled": true
   },
   "outputs": [
    {
     "data": {
      "text/plain": [
       "array([ 1.18682296,  0.26934151, -0.06047639,  0.379012  ,  1.04932614])"
      ]
     },
     "execution_count": 60,
     "metadata": {},
     "output_type": "execute_result"
    }
   ],
   "source": [
    "for i in range(1,N):\n",
    "    z=np.array([1,U1[i],U2[i],U3[i],U4[i]]).reshape(-1,1)\n",
    "    \n",
    "    G[i] = G[i-1]-(G[i-1]@z@z.T@G[i-1])/(2*s**2+z.T@G[i-1]@z)\n",
    "    eps =  y[i] - c[i-1].T@z\n",
    "    c[i] = c[i-1]+((G[i]@z*2*eps/(eps@eps+2*s**2))).flatten()\n",
    "\n",
    "c[-1] \n"
   ]
  },
  {
   "cell_type": "markdown",
   "metadata": {},
   "source": [
    "#### Во втором случае рекуррентный алгоритм принимает вид:\n",
    "\\begin{equation}\\hat{\\vec{c}}(i)=\\hat{\\vec{c}}(i-1)+Г(i)\\vec{z}(i)(y(i)-\\hat{c}_{0}(i-1)u_{0}(i)-...-\\hat{c}_{4}(i-1)u_{4}(i)) \\\\\n",
    "Г(i)=Г(i-1)-\\frac{Г(i-1)\\vec{z}(i)\\vec{z}(i)^TГ(i-1)}{1+\\vec{z}^T(i)Г(i-1)\\vec{z}(i)} \\\\\n",
    "Г(0)=\\lambda I , \\lambda=0.1    \\\\\n",
    "\\hat{\\vec{c}}(0)=\\vec{c}_{0}\\end{equation}"
   ]
  },
  {
   "cell_type": "code",
   "execution_count": 61,
   "metadata": {
    "scrolled": false
   },
   "outputs": [
    {
     "data": {
      "text/plain": [
       "array([-2.95483747,  0.07828427, -0.04264639,  0.03144161,  0.99485778])"
      ]
     },
     "execution_count": 61,
     "metadata": {},
     "output_type": "execute_result"
    }
   ],
   "source": [
    "for i in range(1,N):\n",
    "    z=np.array([1,U1[i],U2[i],U3[i],U4[i]]).reshape(-1,1)\n",
    "    G[i] = G[i-1]-(G[i-1]@z@z.T@G[i-1])/(1+z.T@G[i-1]@z)\n",
    "    eps = y[i]-c2[i-1][0]-c2[i-1][1]*U1[i]-c2[i-1][2]*U2[i]-c2[i-1][3]*U3[i]-c2[i-1][4]*U4[i]\n",
    "    c2[i] = np.array(c2[i-1])+((G[i]@z*eps).reshape(-1,))\n",
    "    \n",
    "c2[-1]  "
   ]
  },
  {
   "cell_type": "markdown",
   "metadata": {},
   "source": [
    "Сглаженная ошибка оценки вычисляется по формуле:\n",
    "\\begin{equation*}\n",
    "err_{сгл}=\\sqrt{\\frac{\\sum_{j=1}^{10}\\sum_{k=0}^4(\\hat{c}_{k}(i-j)-c_{k})^2}{10}} ; i=10,11,12...\n",
    "\\end{equation*}"
   ]
  },
  {
   "cell_type": "code",
   "execution_count": 62,
   "metadata": {},
   "outputs": [],
   "source": [
    "err1=[]\n",
    "for i in range(10,N):\n",
    "    x=0\n",
    "    for j in range(1,10):\n",
    "        for k in range(0,4):\n",
    "            x+=(c[i-j][k]-c_[k])**2\n",
    "    err1.append(np.sqrt(x/10))\n",
    "err2=[]\n",
    "for i in range(10,N):\n",
    "    x=0\n",
    "    for j in range(1,10):\n",
    "        for k in range(0,4):\n",
    "            x+=(c2[i-j][k]-c_[k])**2\n",
    "    err2.append(np.sqrt(x/10))\n"
   ]
  },
  {
   "cell_type": "code",
   "execution_count": 63,
   "metadata": {},
   "outputs": [
    {
     "data": {
      "image/png": "[encoded data removed]",
      "text/plain": [
       "<Figure size 432x288 with 1 Axes>"
      ]
     },
     "metadata": {},
     "output_type": "display_data"
    }
   ],
   "source": [
    "t = range(10,N)\n",
    "plt.title(\"s=\"+str(s))\n",
    "plt.plot(t, err1, label = 'р-ние Kоши')\n",
    "plt.plot(t, err2, label = 'Нормальное р-ние')\n",
    "plt.legend()\n",
    "plt.show()"
   ]
  }
 ],
 "metadata": {
  "kernelspec": {
   "display_name": "Python 3",
   "language": "python",
   "name": "python3"
  },
  "language_info": {
   "codemirror_mode": {
    "name": "ipython",
    "version": 3
   },
   "file_extension": ".py",
   "mimetype": "text/x-python",
   "name": "python",
   "nbconvert_exporter": "python",
   "pygments_lexer": "ipython3",
   "version": "3.6.5"
  }
 },
 "nbformat": 4,
 "nbformat_minor": 2
}
