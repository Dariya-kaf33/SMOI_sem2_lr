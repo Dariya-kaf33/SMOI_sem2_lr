{
 "cells": [
  {
   "cell_type": "markdown",
   "metadata": {},
   "source": [
    "### Лабораторная работа №4\n",
    "####  Исследование абсолютно-оптимальных рекуррентных алгоритмов"
   ]
  },
  {
   "cell_type": "markdown",
   "metadata": {},
   "source": [
    "Для оценки эффективности абсолютно-оптимальных алгоритмов рассмотрим задачу идентификации параметров линейного регрессионного объекта вида:\n",
    "\\begin{equation}y(i)=с_{0}+с_{1}u_{1}(i)+...+с_{4}u_{4}(i)+\\eta(i)\\end{equation}"
   ]
  },
  {
   "cell_type": "markdown",
   "metadata": {},
   "source": [
    "Пусть шум измерений $\\eta(i)$ имеет распределение Коши:\n",
    "\\begin{equation*}\n",
    "f(\\eta)=\\frac{1}{\\pi s}\\frac{1}{(1+(\\eta/s)^2)}\n",
    "\\end{equation*}"
   ]
  },
  {
   "cell_type": "code",
   "execution_count": 134,
   "metadata": {
    "collapsed": true
   },
   "outputs": [],
   "source": [
    "import numpy as np\n",
    "import scipy.stats as st\n",
    "import matplotlib.pyplot as plt"
   ]
  },
  {
   "cell_type": "code",
   "execution_count": 394,
   "metadata": {
    "collapsed": true
   },
   "outputs": [],
   "source": [
    "# параметры объекта \n",
    "c0=9\n",
    "c1=2\n",
    "c2=3\n",
    "c3=1\n",
    "c4=4"
   ]
  },
  {
   "cell_type": "code",
   "execution_count": 395,
   "metadata": {
    "collapsed": true
   },
   "outputs": [],
   "source": [
    "# количество измерений\n",
    "N=200"
   ]
  },
  {
   "cell_type": "code",
   "execution_count": 396,
   "metadata": {
    "collapsed": true
   },
   "outputs": [],
   "source": [
    "np.random.seed(42)"
   ]
  },
  {
   "cell_type": "code",
   "execution_count": 406,
   "metadata": {
    "collapsed": true
   },
   "outputs": [],
   "source": [
    "# параметр распределения Коши\n",
    "s=100"
   ]
  },
  {
   "cell_type": "code",
   "execution_count": 407,
   "metadata": {
    "collapsed": true
   },
   "outputs": [],
   "source": [
    "Noise=st.cauchy.rvs(loc=0, scale=s, size=N)"
   ]
  },
  {
   "cell_type": "code",
   "execution_count": 408,
   "metadata": {
    "collapsed": true
   },
   "outputs": [],
   "source": [
    "Avg_U1=1\n",
    "Var_U1=50\n",
    "Avg_U2=1\n",
    "Var_U2=50\n",
    "Avg_U3=1\n",
    "Var_U3=50\n",
    "Avg_U4=1\n",
    "Var_U4=50"
   ]
  },
  {
   "cell_type": "code",
   "execution_count": 409,
   "metadata": {
    "collapsed": true
   },
   "outputs": [],
   "source": [
    "# моделирование входов объекта\n",
    "U1=np.random.normal(Avg_U1,Var_U1,size=N)\n",
    "U2=np.random.normal(Avg_U2,Var_U2,size=N)\n",
    "U3=np.random.normal(Avg_U3,Var_U3,size=N)\n",
    "U4=np.random.normal(Avg_U4,Var_U4,size=N)"
   ]
  },
  {
   "cell_type": "code",
   "execution_count": 410,
   "metadata": {
    "collapsed": true
   },
   "outputs": [],
   "source": [
    "# моделирование выхода объекта\n",
    "y=с0+с1*U1+с2*U2+с3*U3+с4*U4+Noise"
   ]
  },
  {
   "cell_type": "code",
   "execution_count": 411,
   "metadata": {
    "collapsed": true
   },
   "outputs": [
    {
     "data": {
      "image/png": "[encoded data removed]",
      "text/plain": [
       "<Figure size 432x288 with 1 Axes>"
      ]
     },
     "metadata": {},
     "output_type": "display_data"
    }
   ],
   "source": [
    "plt.plot(y)\n",
    "plt.show()"
   ]
  },
  {
   "cell_type": "markdown",
   "metadata": {},
   "source": [
    "#### Формирование алгоритма идентификации\n",
    "\n",
    "В зависимости от того, насколько хорошо изучен «объект» идентификации, могут возникнуть следующие ситуации:\n",
    "\n",
    "1. Объект изучен хорошо, правильно определена плотность распределения шума, т.е. принятая и реальная плотности распределения совпадают и на основе принятой функции распределения формируется оптимальная функция потерь.\n",
    "\n",
    "\n",
    "2. Объект изучен плохо. При этом, как правило, считают, что плотность распределения шума соответствует нормальному закону распределения, хотя на самом деле(в данном случаем, см. описание объекта выше) шум имеет распределение Коши. Таким образом, опираясь на ложную гипотезу о нормальном распределении шума, в качестве функции потерь выбирается квадратичная функция."
   ]
  },
  {
   "cell_type": "markdown",
   "metadata": {},
   "source": [
    "Предлагается реализовать абсолютно-оптимальный рекуррентный алгоритм оценивания параметров объекта для каждой из ситуаций. Для   оценки   эффективности использования абсолютно-оптимальных  рекуррентных  алгоритмов  проводилось сравнение сглаженной ошибки оценки параметров объекта,определенных когда объект изучили хорошо и когда плохо, при  различных  значениях  параметра  распределения Коши — s."
   ]
  },
  {
   "cell_type": "markdown",
   "metadata": {},
   "source": [
    "#### В первом случае рекуррентный алгоритм принимает вид:\n",
    "\\begin{equation}\\hat{\\vec{c}}(i)=\\hat{\\vec{c}}(i-1)+Г(i)\\frac{2(y(i)-\\hat{c}_{0}(i-1)u_{0}(i)-...-\\hat{c}_{4}(i-1)u_{4}(i))}{s^2+(y(i)-\\hat{c}_{0}(i-1)u_{0}(i)-...-\\hat{c}_{4}(i-1)u_{4}(i))^2}\\vec{z}(i) \\\\\n",
    "Г(i)=Г(i-1)-\\frac{Г(i-1)\\vec{z}(i)\\vec{z}(i)^TГ(i-1)}{2s^2+\\vec{z}^T(i)Г(i-1)\\vec{z}(i)} \\\\\n",
    "Г(0)=\\lambda I, \\lambda=0.1\\\\\n",
    "\\hat{\\vec{c}}(0)=\\vec{c}_{0}\\end{equation}"
   ]
  },
  {
   "cell_type": "code",
   "execution_count": 415,
   "metadata": {
    "collapsed": true
   },
   "outputs": [
    {
     "name": "stdout",
     "output_type": "stream",
     "text": [
      "[9.00298964 1.91876201 3.18102412 1.00912364 3.90244098]\n"
     ]
    }
   ],
   "source": [
    "l = 0.1\n",
    "g = np.eye(5)*l\n",
    "# c = [[10, 3, 4, 2, 5]]\n",
    "c = [[c0,c1,c2,c3,c4]]\n",
    "for i in range(1,N):\n",
    "    z = np.array([1, U1[i], U2[i], U3[i], U4[i]]).T\n",
    "    g = g - g@z@z.T*g/(2*s**2 + z.T@g@z)\n",
    "    c_i = c[i-1] + g*(2*(y[i] - c[i-1][0]-c[i-1][1]*U1[i]-c[i-1][2]*U2[i]-c[i-1][3]*U3[i] - c[i-1][4]*U4[i])/ \\\n",
    "            (s**2+(y[i]-c[i-1][0]-c[i-1][1]*U1[i]-c[i-1][2]*U2[i]-c[i-1][3]*U3[i] - c[i-1][4]*U4[i])**2))@z\n",
    "    c.append(c_i)\n",
    "print(c[N-1])\n",
    "    "
   ]
  },
  {
   "cell_type": "markdown",
   "metadata": {},
   "source": [
    "#### Во втором случае рекуррентный алгоритм принимает вид:\n",
    "\\begin{equation}\\hat{\\vec{c}}(i)=\\hat{\\vec{c}}(i-1)+Г(i)\\vec{z}(i)(y(i)-\\hat{c}_{0}(i-1)u_{0}(i)-...-\\hat{c}_{4}(i-1)u_{4}(i)) \\\\\n",
    "Г(i)=Г(i-1)-\\frac{Г(i-1)\\vec{z}(i)\\vec{z}(i)^TГ(i-1)}{1+\\vec{z}^T(i)Г(i-1)\\vec{z}(i)} \\\\\n",
    "Г(0)=\\lambda I , \\lambda=0.1    \\\\\n",
    "\\hat{\\vec{c}}(0)=\\vec{c}_{0}\\end{equation}"
   ]
  },
  {
   "cell_type": "code",
   "execution_count": 416,
   "metadata": {
    "collapsed": true
   },
   "outputs": [
    {
     "name": "stdout",
     "output_type": "stream",
     "text": [
      "[8.86768268 0.27138487 7.12420784 1.84573263 0.92209105]\n"
     ]
    }
   ],
   "source": [
    "l = 0.1\n",
    "g = np.eye(5)*l\n",
    "# c_2 = [[10, 3, 4, 2, 5]]\n",
    "c_2 = [[c0,c1,c2,c3,c4]]\n",
    "for i in range(1,N):\n",
    "    z = np.array([1, U1[i], U2[i], U3[i], U4[i]]).T\n",
    "    g = g - g@z@z.T*g/(1 + z.T@g@z)\n",
    "    c_i = c_2[i-1] + g@z*(y[i] - c_2[i-1][0]-c_2[i-1][1]*U1[i]-c_2[i-1][2]*U2[i]-c_2[i-1][3]*U3[i] - c_2[i-1][4]*U4[i])\n",
    "    c_2.append(c_i)\n",
    "print(c_2[N-1])"
   ]
  },
  {
   "cell_type": "markdown",
   "metadata": {},
   "source": [
    "Сглаженная ошибка оценки вычисляется по формуле:\n",
    "\\begin{equation*}\n",
    "err_{сгл}=\\sqrt{\\frac{\\sum_{j=1}^{10}\\sum_{k=0}^4(\\hat{c}_{k}(i-j)-c_{k})^2}{10}} ; i=10,11,12...\n",
    "\\end{equation*}"
   ]
  },
  {
   "cell_type": "code",
   "execution_count": 417,
   "metadata": {
    "collapsed": true
   },
   "outputs": [
    {
     "data": {
      "text/plain": [
       "<matplotlib.legend.Legend at 0x1a1aff1ef0>"
      ]
     },
     "execution_count": 417,
     "metadata": {},
     "output_type": "execute_result"
    },
    {
     "data": {
      "image/png": "[encoded data removed]",
      "text/plain": [
       "<Figure size 432x288 with 1 Axes>"
      ]
     },
     "metadata": {},
     "output_type": "display_data"
    }
   ],
   "source": [
    "err_1 = np.array(range(N-10), dtype = np.double)\n",
    "err_2 = np.array(range(N-10), dtype = np.double)\n",
    "c_n = [c0,c1,c2,c3,c4]\n",
    "\n",
    "\n",
    "for i in range(10,N):\n",
    "    sqr_1 = 0\n",
    "    sqr_2 = 0\n",
    "    for j in range(1,10):\n",
    "        for k in range(0,4):\n",
    "            sqr_1 += (c[i-j][k]-c_n[k])**2\n",
    "            sqr_2 += (c_2[i-j][k]-c_n[k])**2\n",
    "    err_1[i-10] = (sqr_1/10)**(1/2)\n",
    "    err_2[i-10] = (sqr_2/10)**(1/2)\n",
    "    \n",
    "plt.plot(err_1,label='Объект изучен хорошо')\n",
    "plt.plot(err_2,label='Объект изучен плохо')\n",
    "plt.legend()\n"
   ]
  },
  {
   "cell_type": "code",
   "execution_count": null,
   "metadata": {},
   "outputs": [],
   "source": []
  },
  {
   "cell_type": "code",
   "execution_count": null,
   "metadata": {},
   "outputs": [],
   "source": []
  },
  {
   "cell_type": "code",
   "execution_count": null,
   "metadata": {},
   "outputs": [],
   "source": []
  }
 ],
 "metadata": {
  "kernelspec": {
   "display_name": "Python 3",
   "language": "python",
   "name": "python3"
  },
  "language_info": {
   "codemirror_mode": {
    "name": "ipython",
    "version": 3
   },
   "file_extension": ".py",
   "mimetype": "text/x-python",
   "name": "python",
   "nbconvert_exporter": "python",
   "pygments_lexer": "ipython3",
   "version": "3.6.5"
  }
 },
 "nbformat": 4,
 "nbformat_minor": 2
}
