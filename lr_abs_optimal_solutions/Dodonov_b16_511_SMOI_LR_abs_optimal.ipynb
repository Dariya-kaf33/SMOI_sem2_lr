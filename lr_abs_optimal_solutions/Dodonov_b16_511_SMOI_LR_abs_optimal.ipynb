{
 "cells": [
  {
   "cell_type": "markdown",
   "metadata": {},
   "source": [
    "### Лабораторная работа №4\n",
    "####  Исследование абсолютно-оптимальных рекуррентных алгоритмов"
   ]
  },
  {
   "cell_type": "markdown",
   "metadata": {},
   "source": [
    "Для оценки эффективности абсолютно-оптимальных алгоритмов рассмотрим задачу идентификации параметров линейного регрессионного объекта вида:\n",
    "\\begin{equation}y(i)=с_{0}+с_{1}u_{1}(i)+...+с_{4}u_{4}(i)+\\eta(i)\\end{equation}"
   ]
  },
  {
   "cell_type": "markdown",
   "metadata": {},
   "source": [
    "Пусть шум измерений $\\eta(i)$ имеет распределение Коши:\n",
    "\\begin{equation*}\n",
    "f(\\eta)=\\frac{1}{\\pi s}\\frac{1}{(1+(\\eta/s)^2)}\n",
    "\\end{equation*}"
   ]
  },
  {
   "cell_type": "code",
   "execution_count": 1,
   "metadata": {},
   "outputs": [],
   "source": [
    "import numpy as np\n",
    "import scipy.stats as st\n",
    "import matplotlib.pyplot as plt"
   ]
  },
  {
   "cell_type": "code",
   "execution_count": 2,
   "metadata": {},
   "outputs": [],
   "source": [
    "# параметры объекта \n",
    "c0=1.9\n",
    "c1=-0.9\n",
    "c2=0.8\n",
    "c3=0\n",
    "c4=2.5"
   ]
  },
  {
   "cell_type": "code",
   "execution_count": 3,
   "metadata": {},
   "outputs": [],
   "source": [
    "# количество измерений\n",
    "N=200"
   ]
  },
  {
   "cell_type": "code",
   "execution_count": 4,
   "metadata": {},
   "outputs": [],
   "source": [
    "# параметр распределения Коши\n",
    "s=10"
   ]
  },
  {
   "cell_type": "code",
   "execution_count": 5,
   "metadata": {},
   "outputs": [],
   "source": [
    "Noise=st.cauchy.rvs(loc=0, scale=s, size=N)"
   ]
  },
  {
   "cell_type": "code",
   "execution_count": 6,
   "metadata": {},
   "outputs": [],
   "source": [
    "Avg_U1=1\n",
    "Var_U1=50\n",
    "Avg_U2=1\n",
    "Var_U2=50\n",
    "Avg_U3=1\n",
    "Var_U3=50\n",
    "Avg_U4=1\n",
    "Var_U4=50"
   ]
  },
  {
   "cell_type": "code",
   "execution_count": 7,
   "metadata": {},
   "outputs": [],
   "source": [
    "# моделирование входов объекта\n",
    "U1=np.random.normal(Avg_U1,Var_U1,size=N)\n",
    "U2=np.random.normal(Avg_U2,Var_U2,size=N)\n",
    "U3=np.random.normal(Avg_U3,Var_U3,size=N)\n",
    "U4=np.random.normal(Avg_U4,Var_U4,size=N)"
   ]
  },
  {
   "cell_type": "code",
   "execution_count": 8,
   "metadata": {},
   "outputs": [
    {
     "name": "stdout",
     "output_type": "stream",
     "text": [
      "[-6.45248094e+01  2.97175178e+02 -1.55590572e+02  9.16373409e+00\n",
      " -2.89114607e+02  8.01655761e+01  1.21709611e+01 -1.64183102e+02\n",
      " -7.17839013e+01  5.56881256e+00  1.14261264e+02  2.42847805e+01\n",
      " -7.31236437e+01  7.22964131e+00  7.60865461e+01 -5.77189817e+01\n",
      " -9.41935282e+01  8.33710229e+01 -2.47486496e+01 -5.06417089e+01\n",
      "  2.30144174e+01 -1.44774308e+02  1.42784510e+02 -1.60207027e+01\n",
      "  5.63394398e+01 -9.46564224e+01  2.99264625e+02  1.30227180e+02\n",
      "  2.94694039e+01  1.46303075e+02  2.53938280e+02 -1.16971389e+03\n",
      "  7.82225801e+01  3.84134764e-02  1.88435487e+01  5.45809125e+01\n",
      "  2.02887346e+02  1.24231431e+02 -1.78301460e+02  2.98429089e+02\n",
      "  1.32509301e+02 -1.27520970e+02  4.88663504e+02  1.34012408e+02\n",
      "  9.68953878e+01 -6.16727926e+01 -1.17850893e+01 -2.81040665e+02\n",
      " -1.28448847e+01 -5.17532968e+01  2.33538561e+02 -1.59611388e+02\n",
      " -1.15759509e+02  4.10728702e+02  4.55729396e+00 -3.05058372e+00\n",
      " -9.03551445e+01  4.75808399e+01 -1.91610363e+02  1.75474642e+02\n",
      "  1.44228963e+02  2.19915510e+02 -1.74449164e+02 -1.00176943e+02\n",
      "  1.31833589e+02  8.62289967e+01 -4.46992207e+00  2.58428886e+02\n",
      " -7.17123301e+01  7.17767144e+01 -4.17414536e+01 -2.25380163e+02\n",
      " -1.27493782e+01  9.03288335e+01 -2.74723123e+01 -1.22404263e+02\n",
      "  4.02119296e+02  1.14611808e+02 -1.79595472e+02 -1.06578626e+02\n",
      "  1.34618959e+02  9.13116068e+01  7.29264146e+00  1.03773233e+01\n",
      "  1.14735609e+02 -1.98095200e+02 -4.14393680e+01  8.23930859e+01\n",
      "  1.38260770e+02  2.97962995e+02  2.05037927e+02 -4.27624138e+01\n",
      "  3.46208666e+02 -1.24441961e+00  1.56652962e+02  1.71003367e+02\n",
      "  6.98259371e+01  1.38376701e+01  2.04929984e+01  1.42562376e+02\n",
      "  1.39419257e+02 -1.39503087e+02 -1.03904951e+02 -3.79362330e+01\n",
      " -1.22914804e+02  1.38651938e+02  1.77364850e+02 -1.13755503e+02\n",
      " -1.45955317e+02  1.19220865e+02  6.18113421e+01 -9.33833361e+01\n",
      " -2.22772843e+02 -2.22909615e+01 -8.33683316e+01 -8.62505143e+01\n",
      "  1.33353256e+02 -8.55641015e+01  4.41198366e+01  1.23256046e+02\n",
      " -2.25175209e+02 -9.57525692e+01 -3.13149064e+02 -1.46948110e+02\n",
      " -1.38550180e+02 -1.82797901e+01 -2.74567589e+01 -1.13762681e+02\n",
      " -8.19896495e+01 -1.02152246e+02  1.30816036e+02  6.99886092e+01\n",
      "  3.32450991e+01 -2.25202169e+02 -1.46956184e+02 -5.18904061e+01\n",
      "  1.05212444e+02  6.71449706e+01  1.41521247e+02  2.52955836e+01\n",
      "  9.63856749e+01  9.32642840e+01  1.97782238e+02 -2.13166803e+02\n",
      "  1.18927387e+01  5.62343006e+01 -1.12420668e+02  4.07746369e+02\n",
      "  1.34808166e+02 -4.42273428e+01 -5.61069346e+01  8.93983508e+01\n",
      " -1.10705435e+02  1.47358067e+02 -1.21030310e+02 -1.79751601e+00\n",
      " -1.44476655e+02 -1.63530474e+02  8.23837190e+01 -9.08605236e+01\n",
      "  1.33778101e+02 -1.18804900e+02 -9.42891850e+01 -2.09523223e+01\n",
      " -1.02683334e+02 -5.34674414e+01 -8.34509279e+01  9.01073027e+01\n",
      " -4.17132941e+01  8.75045204e+01 -1.13425117e+02  8.11914045e+01\n",
      " -1.03474645e+02 -1.13555002e+02 -2.77855804e+01  8.60133536e+01\n",
      " -1.34938641e+02  1.23941684e+02  1.55178674e+02 -8.59513246e+01\n",
      "  1.94906642e+02 -1.29409371e+02 -1.26342875e+02 -2.95099896e+02\n",
      " -5.00622079e+00  6.52355407e+01 -4.41364354e+01 -8.93646477e+01\n",
      " -3.33980472e+01 -7.94066701e+01 -2.54727790e+02 -2.64875108e+02\n",
      " -4.02673163e+00 -8.25334539e+01  8.17331509e+01  6.44189799e+01\n",
      " -7.76847569e+01  2.23359635e+02  3.96124934e+03 -5.52341810e+01]\n"
     ]
    }
   ],
   "source": [
    "# моделирование выхода объекта\n",
    "y=c0+c1*U1+c2*U2+c3*U3+c4*U4+Noise\n",
    "print(y)"
   ]
  },
  {
   "cell_type": "code",
   "execution_count": 9,
   "metadata": {},
   "outputs": [
    {
     "data": {
      "image/png": "[encoded data removed]",
      "text/plain": [
       "<Figure size 432x288 with 1 Axes>"
      ]
     },
     "metadata": {
      "needs_background": "light"
     },
     "output_type": "display_data"
    }
   ],
   "source": [
    "plt.plot(y)\n",
    "plt.show()"
   ]
  },
  {
   "cell_type": "markdown",
   "metadata": {},
   "source": [
    "#### Формирование алгоритма идентификации\n",
    "\n",
    "В зависимости от того, насколько хорошо изучен «объект» идентификации, могут возникнуть следующие ситуации:\n",
    "\n",
    "1. Объект изучен хорошо, правильно определена плотность распределения шума, т.е. принятая и реальная плотности распределения совпадают и на основе принятой функции распределения формируется оптимальная функция потерь.\n",
    "\n",
    "\n",
    "2. Объект изучен плохо. При этом, как правило, считают, что плотность распределения шума соответствует нормальному закону распределения, хотя на самом деле(в данном случаем, см. описание объекта выше) шум имеет распределение Коши. Таким образом, опираясь на ложную гипотезу о нормальном распределении шума, в качестве функции потерь выбирается квадратичная функция."
   ]
  },
  {
   "cell_type": "markdown",
   "metadata": {},
   "source": [
    "Предлагается реализовать абсолютно-оптимальный рекуррентный алгоритм оценивания параметров объекта для каждой из ситуаций. Для   оценки   эффективности использования абсолютно-оптимальных  рекуррентных  алгоритмов  проводилось сравнение сглаженной ошибки оценки параметров объекта,определенных когда объект изучили хорошо и когда плохо, при  различных  значениях  параметра  распределения Коши — s."
   ]
  },
  {
   "cell_type": "markdown",
   "metadata": {},
   "source": [
    "#### В первом случае рекуррентный алгоритм принимает вид:\n",
    "\\begin{equation}\\hat{\\vec{c}}(i)=\\hat{\\vec{c}}(i-1)+Г(i)\\frac{2(y(i)-\\hat{c}_{0}(i-1)u_{0}(i)-...-\\hat{c}_{4}(i-1)u_{4}(i))}{s^2+(y(i)-\\hat{c}_{0}(i-1)u_{0}(i)-...-\\hat{c}_{4}(i-1)u_{4}(i))^2}\\vec{z}(i) \\\\\n",
    "Г(i)=Г(i-1)-\\frac{Г(i-1)\\vec{z}(i)\\vec{z}(i)^TГ(i-1)}{2s^2+\\vec{z}^T(i)Г(i-1)\\vec{z}(i)} \\\\\n",
    "Г(0)=\\lambda I, \\lambda=0.1\\\\\n",
    "\\hat{\\vec{c}}(0)=\\vec{c}_{0}\\end{equation}"
   ]
  },
  {
   "cell_type": "code",
   "execution_count": 10,
   "metadata": {},
   "outputs": [
    {
     "name": "stdout",
     "output_type": "stream",
     "text": [
      "[ 2.06234143 -0.91929213  0.79632438  0.0035295   2.50852895]\n"
     ]
    }
   ],
   "source": [
    "# Ваш код здесь ...\n",
    "lambd = 0.1\n",
    "G = np.eye(5)*lambd\n",
    "\n",
    "c = np.empty((N,5))\n",
    "c[0] = [c0, c1, c2, c3, c4]\n",
    "c[0] += 0.1\n",
    "\n",
    "for i in range(1,N):\n",
    "    z = np.asmatrix([1, U1[i], U2[i], U3[i], U4[i]]).transpose()\n",
    "    G = G - (G*z*z.transpose()*G)/(2*s**2+z.transpose()*G*z)\n",
    "    c[i] = c[i-1] + (G*(2*(y[i]-c[i-1][0]-c[i-1][1]*U1[i]-c[i-1][2]*U2[i]-c[i-1][3]*U3[i]-c[i-1][4]*U4[i]))/(s**2+(y[i]-c[i-1][0]-c[i-1][1]*U1[i]-c[i-1][2]*U2[i]-c[i-1][3]*U3[i]-c[i-1][4]*U4[i])**2)*z).transpose()\n",
    "    \n",
    "print(c[-1])"
   ]
  },
  {
   "cell_type": "markdown",
   "metadata": {},
   "source": [
    "#### Во втором случае рекуррентный алгоритм принимает вид:\n",
    "\\begin{equation}\\hat{\\vec{c}}(i)=\\hat{\\vec{c}}(i-1)+Г(i)\\vec{z}(i)(y(i)-\\hat{c}_{0}(i-1)u_{0}(i)-...-\\hat{c}_{4}(i-1)u_{4}(i)) \\\\\n",
    "Г(i)=Г(i-1)-\\frac{Г(i-1)\\vec{z}(i)\\vec{z}(i)^TГ(i-1)}{1+\\vec{z}^T(i)Г(i-1)\\vec{z}(i)} \\\\\n",
    "Г(0)=\\lambda I , \\lambda=0.1    \\\\\n",
    "\\hat{\\vec{c}}(0)=\\vec{c}_{0}\\end{equation}"
   ]
  },
  {
   "cell_type": "code",
   "execution_count": 11,
   "metadata": {},
   "outputs": [
    {
     "name": "stdout",
     "output_type": "stream",
     "text": [
      "[22.27862133 -0.94336523 -0.29622652  0.30802448  2.47683796]\n"
     ]
    }
   ],
   "source": [
    "# Ваш код здесь ...\n",
    "c_2 = np.empty((N,5)) \n",
    "c_2[0] = [c0, c1, c2, c3, c4]\n",
    "c_2[0] += 0.1\n",
    "\n",
    "for i in range(1,N):\n",
    "    z = np.asmatrix([1, U1[i], U2[i], U3[i], U4[i]]).transpose()\n",
    "    G = G - (G*z*z.transpose()*G)/(1+z.transpose()*G*z)\n",
    "    c_2[i] = c_2[i-1] + (G*z*(y[i]-c_2[i-1][0]-c_2[i-1][1]*U1[i]-c_2[i-1][2]*U2[i]-c_2[i-1][3]*U3[i]-c_2[i-1][4]*U4[i])).transpose()\n",
    "    \n",
    "print(c_2[-1]) "
   ]
  },
  {
   "cell_type": "markdown",
   "metadata": {},
   "source": [
    "Сглаженная ошибка оценки вычисляется по формуле:\n",
    "\\begin{equation*}\n",
    "err_{сгл}=\\sqrt{\\frac{\\sum_{j=1}^{10}\\sum_{k=0}^4(\\hat{c}_{k}(i-j)-c_{k})^2}{10}} ; i=10,11,12...\n",
    "\\end{equation*}"
   ]
  },
  {
   "cell_type": "code",
   "execution_count": 14,
   "metadata": {},
   "outputs": [
    {
     "name": "stderr",
     "output_type": "stream",
     "text": [
      "No handles with labels found to put in legend.\n"
     ]
    },
    {
     "data": {
      "image/png": "[encoded data removed]",
      "text/plain": [
       "<Figure size 432x288 with 1 Axes>"
      ]
     },
     "metadata": {
      "needs_background": "light"
     },
     "output_type": "display_data"
    }
   ],
   "source": [
    "err1=[]\n",
    "err2=[]\n",
    "for i in range(10,N):\n",
    "    x=0\n",
    "    y=0\n",
    "    for j in range(1,10):\n",
    "        for k in range(0,4):\n",
    "            x+=(c[i-j][k]-c[0][k]-0.5)**2\n",
    "            y+=(c_2[i-j][k]-c[0][k]-0.5)**2\n",
    "    err1.append(np.sqrt(x/10))\n",
    "    err2.append(np.sqrt(y/10))\n",
    "    \n",
    "t = range(10,N)\n",
    "plt.plot(t, err1)\n",
    "plt.plot(t, err2)\n",
    "plt.legend()\n",
    "plt.show()"
   ]
  },
  {
   "cell_type": "code",
   "execution_count": null,
   "metadata": {},
   "outputs": [],
   "source": []
  }
 ],
 "metadata": {
  "kernelspec": {
   "display_name": "Python 3",
   "language": "python",
   "name": "python3"
  },
  "language_info": {
   "codemirror_mode": {
    "name": "ipython",
    "version": 3
   },
   "file_extension": ".py",
   "mimetype": "text/x-python",
   "name": "python",
   "nbconvert_exporter": "python",
   "pygments_lexer": "ipython3",
   "version": "3.7.6"
  }
 },
 "nbformat": 4,
 "nbformat_minor": 2
}
