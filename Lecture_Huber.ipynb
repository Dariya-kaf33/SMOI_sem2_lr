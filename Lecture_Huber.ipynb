{
 "cells": [
  {
   "cell_type": "markdown",
   "metadata": {},
   "source": [
    "## Тема лекции: \n",
    "## Подход Хьюбера к определению оптимальной функции потерь при $ \\alpha $ -загрязненных помехах"
   ]
  },
  {
   "cell_type": "markdown",
   "metadata": {},
   "source": [
    "## 1. Выбросы и их причины\n",
    "\n",
    "* Ошибки измерений и регистрации данных: ошибки точности измерений, некорректно проведенные наблюдения, некорректная регистрация данных или ошибки при вводе данных в БД(опечатки, не там стоит запятая).\n",
    "\n",
    "<img src=\"./img/i_dpz_crop.jpg\" />"
   ]
  },
  {
   "cell_type": "markdown",
   "metadata": {},
   "source": [
    "* Ошибочное предположение о распределении данных. Например, истинное распределение может быть сильно ассиметричным или симметричным, но иметь тяжелые хвосты.\n",
    "\n",
    "\n",
    "* Редкие наблюдения. В выборках, отобранных(как предполагается) из заданных распределений маловероятные наблюдения могут появиться в очень редких случаях. Экстремальные наблюдения в этом случае обычно принимаются за выбросы, но они ими не являются. \n",
    "\n",
    "\n",
    "* Загрязнение данных: данные принадлежат двум и более распределениям, т.е. имеется одно основное распределение и одно или несколько дополнительных распределений (примесей), загрязняющий данные. Экстремальные наблюдения, принадлежащие распределениям-примесям, могут появиться как выбросы основного распределения.\n",
    "\n",
    "\n",
    "\n"
   ]
  },
  {
   "cell_type": "markdown",
   "metadata": {},
   "source": [
    "## 2. $ \\alpha$-загрязненная помеха"
   ]
  },
  {
   "cell_type": "code",
   "execution_count": 1,
   "metadata": {},
   "outputs": [],
   "source": [
    "import numpy as np\n",
    "from scipy.stats import rv_continuous\n",
    "import matplotlib.pyplot as plt\n",
    "%matplotlib inline\n",
    "\n",
    "class gaussian_gen(rv_continuous):\n",
    "    \n",
    "    def _pdf(self, x, alpha, sigma_1, sigma_2):\n",
    "        \"Gaussian distribution\"\n",
    "        def gaussian(self, x, sigma):\n",
    "            return np.exp(-x**2 / 2. / sigma**2) / (np.sqrt(2.0 * np.pi)*sigma)\n",
    "        \n",
    "        return (1-alpha)*gaussian(self, x, sigma_1)+alpha*gaussian(self, x, sigma_2)\n",
    "\n",
    "gaussian = gaussian_gen(name='dirty_distrib')"
   ]
  },
  {
   "cell_type": "markdown",
   "metadata": {},
   "source": [
    "### Приближенно нормальное распределение"
   ]
  },
  {
   "cell_type": "code",
   "execution_count": 2,
   "metadata": {},
   "outputs": [
    {
     "data": {
      "image/png": "[encoded data removed]",
      "text/plain": [
       "<Figure size 432x288 with 1 Axes>"
      ]
     },
     "metadata": {
      "needs_background": "light"
     },
     "output_type": "display_data"
    }
   ],
   "source": [
    "alpha = 0.1 # вероятность появления наблюдения из примеси \n",
    "sigma_1 = 0.5 # разброс основного распределения\n",
    "sigma_2 = 10 # разброс распределения-примеси\n",
    "N=200 # размер выборки\n",
    "noise = gaussian.rvs(alpha, sigma_1, sigma_2, size=N)\n",
    "\n",
    "plt.plot(noise)\n",
    "plt.ylabel('noise')\n",
    "plt.grid()"
   ]
  },
  {
   "cell_type": "markdown",
   "metadata": {},
   "source": [
    "## 3. Подход Хьюбера"
   ]
  },
  {
   "cell_type": "markdown",
   "metadata": {},
   "source": [
    "Рассмотрим задачу идентификации коэффициентов линейного регрессионного объекта: <br> \n",
    "    <br> $$ \\large y(i) = b_0 + b_1 u_1(i)+...+b_n u_n(i) + \\eta(i) $$ <br> в предположении, что\n",
    "распределение $ \\large f (\\eta)$ помех принадлежит классу $ \\large \\alpha$-загрязненных\n",
    "распределений:<br><br>\n",
    "$$ \\large Ф = \\{ f (\\eta) : f (\\eta) = (1 - \\alpha)h(\\eta) + \\alpha g(\\eta)\\} $$<br>\n",
    "где $ \\large h(\\eta) $ — некоторая известная плотность распределения,<br>\n",
    "$ \\large g(\\eta) $ — произвольная неизвестная плотность распределения и <br> $\\large \\alpha $ —\n",
    "вероятность появления «выброса» с распределением $ \\large g(\\eta) $, $\\large \\alpha $ удовлетворяет условию\n",
    "$\\large 0  \\leq  \\alpha  \\leq 1 $"
   ]
  },
  {
   "cell_type": "markdown",
   "metadata": {},
   "source": [
    "### __Теорема Хьюбера (Хубера)__ .\n",
    "Пусть $\\large h(\\eta)$ — дважды непрерывно дифференцируемая плотность распределения, такая, что $ \\large (- ln (h(\\eta)) $ — выпуклая вниз функция. <br>\n",
    "Тогда АМКО линейных регрессионных объектов — $ \\large V(F, f ) $ имеет седловую точку, т.е. существует плотность распределения $ \\large f^* (\\eta) = (1 - \\alpha)h(\\eta) + \\alpha g^* (\\eta) $ и функция $ \\large F^* (\\eta) = - ln f^* (\\eta) $, такие, что:<br><br>\n",
    "$$\\large V(F^*, f ) \\leq V(F^*, f^*) \\leq V(F, f^*) $$"
   ]
  },
  {
   "cell_type": "markdown",
   "metadata": {},
   "source": [
    "Далее, пусть  $\\large \\eta_0$ и $\\large \\eta_1$ ( $ \\large \\eta_0 < \\eta_1 $) — концы интервала (один или\n",
    "оба конца могут быть бесконечными), где $$ \\large |\\frac{h'(\\eta)}{h(\\eta)}| \\leq k, \\eta [\\eta_0, \\eta_1], $$\n",
    "\n",
    "и $ \\large k, \\alpha, \\eta_0,  \\eta_1 $ связаны соотношением:\n",
    "$$ \\large (1-\\alpha)^{-1} = \\int_{\\eta_0}^{\\eta_1}h(\\eta)d\\eta + \\frac{h(\\eta_0)+h(\\eta_1)}{k} $$"
   ]
  },
  {
   "cell_type": "markdown",
   "metadata": {},
   "source": [
    "Тогда плотность $ \\large f^*(\\eta) $ имеет вид:\n",
    "$$ \\large f^*(\\eta) = \\left\\{\n",
    "    \\begin{array}\\\\\n",
    "        (1-\\alpha)h(\\eta_0)exp(k(\\eta - \\eta_0)), & \\eta \\leq \\eta_0 \\\\\n",
    "        (1-\\alpha)h(\\eta), & \\eta_0 \\leq \\eta \\leq \\eta_1\\\\\n",
    "        (1-\\alpha)h(\\eta_1)exp(-k(\\eta - \\eta_1)), &  \\eta \\geq \\eta_1\n",
    "    \\end{array}  \n",
    "\\right. $$"
   ]
  },
  {
   "cell_type": "markdown",
   "metadata": {},
   "source": [
    "Соответствующая оптимальная функция потерь:\n",
    "    $$ \\large F^*(\\varepsilon) = \\left\\{\n",
    "    \\begin{array}\\\\\n",
    "        -ln[(1-\\alpha)h(\\eta_0)] - k(\\varepsilon - \\eta_0), & \\varepsilon \\leq \\eta_0 \\\\\n",
    "        -ln[(1-\\alpha)h(\\varepsilon)], & \\eta_0 \\leq \\varepsilon \\leq \\eta_1\\\\\n",
    "        -ln[(1-\\alpha)h(\\eta_1)]+k(\\varepsilon - \\eta_1), &  \\varepsilon \\geq \\eta_1\n",
    "    \\end{array}  \n",
    "\\right. $$"
   ]
  },
  {
   "cell_type": "markdown",
   "metadata": {},
   "source": [
    "### Случай, когда $\\large h(\\eta) $ - нормальное распределение"
   ]
  },
  {
   "cell_type": "markdown",
   "metadata": {},
   "source": [
    "$\\large h(\\eta) = f_N(\\eta) = \\frac{1}{\\sigma_\\eta\\sqrt{2\\pi}}exp(-\\frac{\\eta^2}{2\\sigma_\\eta})$"
   ]
  },
  {
   "cell_type": "markdown",
   "metadata": {},
   "source": [
    "$$ \\large F^*(\\varepsilon) = \\left\\{\n",
    "    \\begin{array}\\\\\n",
    "        -\\frac{\\Delta}{\\sigma^2_\\eta}\\varepsilon - \\frac{1}{2}\\frac{\\Delta^2}{\\sigma^2_\\eta}, & \\varepsilon \\leq -\\Delta \\\\\n",
    "        \\frac{1}{2\\sigma^2_\\eta}\\varepsilon^2, & | \\varepsilon | < \\Delta \\\\\n",
    "        \\frac{\\Delta}{\\sigma^2_\\eta}\\varepsilon - \\frac{1}{2}\\frac{\\Delta^2}{\\sigma^2_\\eta}, &  \\varepsilon \\geq \\Delta\n",
    "    \\end{array}  \n",
    "\\right. $$"
   ]
  },
  {
   "cell_type": "markdown",
   "metadata": {},
   "source": [
    "где $ \\large \\Delta = \\xi \\sigma_\\eta $"
   ]
  },
  {
   "cell_type": "markdown",
   "metadata": {},
   "source": [
    "#### Связь вероятности выброса $\\large \\alpha$ и множителя $\\large \\xi$"
   ]
  },
  {
   "cell_type": "markdown",
   "metadata": {},
   "source": [
    "$$\\large \\frac{1}{1-\\alpha} = \\int_{-\\xi}^{\\xi}\\frac{1}{\\sqrt{2\\pi}}exp(-\\frac{x^2}{2})dx + \\frac{2}{\\xi\\sqrt{2\\pi}}exp(-\\frac{\\xi^2}{2})$$\n",
    "\n",
    "<img src=\"./img/alpha_xi.png\" />"
   ]
  },
  {
   "cell_type": "markdown",
   "metadata": {},
   "source": [
    "## 3. Чувствительность МНК к выбросам. Пример МНК и HuberRegressor"
   ]
  },
  {
   "cell_type": "markdown",
   "metadata": {},
   "source": [
    "$ MSE : \\sum (y_i - \\hat{y}_i)^2 - квадратичная\\_\\_функция\\_\\_потерь$\n",
    "<br>$ MAE : \\sum |y_i - \\hat{y}_i| - модульная\\_\\_функция\\_\\_потерь$ \n",
    "<br> $ Huber: \\begin{equation} L_\\delta(y_i, \\hat{y}_i))= \\left\\{\n",
    "    \\begin{array}\\\\\n",
    "        \\frac{1}{2}(y_i - \\hat{y}_i)^2, & |y_i - \\hat{y}_i| < \\delta \\\\\n",
    "        \\delta|y_i - \\hat{y}_i| - \\frac{1}{2}\\delta^2, & иначе\\\\\n",
    "    \\end{array}  \n",
    "\\right.\\end{equation}- функция\\_\\_потерь\\_\\_Хьюбера$"
   ]
  },
  {
   "cell_type": "markdown",
   "metadata": {},
   "source": [
    "<img src=\"./img/losses.png\" />"
   ]
  },
  {
   "cell_type": "code",
   "execution_count": 3,
   "metadata": {},
   "outputs": [],
   "source": [
    "from sklearn.linear_model import LinearRegression, HuberRegressor\n",
    "import random"
   ]
  },
  {
   "cell_type": "code",
   "execution_count": 4,
   "metadata": {},
   "outputs": [],
   "source": [
    "n = 50\n",
    "x = np.linspace(0, 10, n)"
   ]
  },
  {
   "cell_type": "code",
   "execution_count": 5,
   "metadata": {},
   "outputs": [],
   "source": [
    "y = 4 + 0.5*x"
   ]
  },
  {
   "cell_type": "code",
   "execution_count": 6,
   "metadata": {},
   "outputs": [],
   "source": [
    "noise = np.random.normal(0, 0.5, n)\n",
    "y_new = y + noise"
   ]
  },
  {
   "cell_type": "code",
   "execution_count": 7,
   "metadata": {},
   "outputs": [
    {
     "data": {
      "text/plain": [
       "<matplotlib.legend.Legend at 0x7f2ea71aa828>"
      ]
     },
     "execution_count": 7,
     "metadata": {},
     "output_type": "execute_result"
    },
    {
     "data": {
      "image/png": "[encoded data removed]",
      "text/plain": [
       "<Figure size 432x288 with 1 Axes>"
      ]
     },
     "metadata": {
      "needs_background": "light"
     },
     "output_type": "display_data"
    }
   ],
   "source": [
    "plt.plot(x, y, 'magenta', label='y original')\n",
    "plt.plot(x, y_new, 'g*', label='y noised')\n",
    "plt.grid()\n",
    "plt.legend()"
   ]
  },
  {
   "cell_type": "markdown",
   "metadata": {},
   "source": [
    "Добавим выбросов в данные"
   ]
  },
  {
   "cell_type": "code",
   "execution_count": 8,
   "metadata": {},
   "outputs": [],
   "source": [
    "outliers = [25.6, 34.2, 44, 29, 50, 100, 90]\n",
    "outliers_ind = random.sample(range(len(x)), len(outliers))\n",
    "\n",
    "for i in range(len(outliers)): \n",
    "    y_new[outliers_ind[i]] = outliers[i]"
   ]
  },
  {
   "cell_type": "code",
   "execution_count": 9,
   "metadata": {},
   "outputs": [
    {
     "data": {
      "text/plain": [
       "<matplotlib.legend.Legend at 0x7f2ea7124fd0>"
      ]
     },
     "execution_count": 9,
     "metadata": {},
     "output_type": "execute_result"
    },
    {
     "data": {
      "image/png": "[encoded data removed]",
      "text/plain": [
       "<Figure size 432x288 with 1 Axes>"
      ]
     },
     "metadata": {
      "needs_background": "light"
     },
     "output_type": "display_data"
    }
   ],
   "source": [
    "plt.plot(x, y, 'magenta', label='y original')\n",
    "plt.plot(x, y_new, 'g*', label='y outlies')\n",
    "plt.grid()\n",
    "plt.legend()"
   ]
  },
  {
   "cell_type": "markdown",
   "metadata": {},
   "source": [
    "Определим параметры $ y=kx+b $ с помощью МНК"
   ]
  },
  {
   "cell_type": "code",
   "execution_count": 10,
   "metadata": {},
   "outputs": [
    {
     "name": "stdout",
     "output_type": "stream",
     "text": [
      "k= -0.478 b= 15.464\n"
     ]
    }
   ],
   "source": [
    "reg_mse = LinearRegression()\n",
    "reg_mse.fit(x[:, np.newaxis], y_new)\n",
    "print('k=', round(reg_mse.coef_[0], 3), 'b=', round(reg_mse.intercept_, 3))"
   ]
  },
  {
   "cell_type": "code",
   "execution_count": 11,
   "metadata": {},
   "outputs": [
    {
     "data": {
      "text/plain": [
       "<matplotlib.legend.Legend at 0x7f2ea709ae48>"
      ]
     },
     "execution_count": 11,
     "metadata": {},
     "output_type": "execute_result"
    },
    {
     "data": {
      "image/png": "[encoded data removed]",
      "text/plain": [
       "<Figure size 432x288 with 1 Axes>"
      ]
     },
     "metadata": {
      "needs_background": "light"
     },
     "output_type": "display_data"
    }
   ],
   "source": [
    "plt.plot(x, y, 'magenta', label='y original')\n",
    "plt.plot(x, y_new, 'g*', label='y outlies')\n",
    "plt.plot(x, reg_mse.coef_[0]*x + reg_mse.intercept_, 'b', label='y mse')\n",
    "plt.grid()\n",
    "plt.legend()"
   ]
  },
  {
   "cell_type": "markdown",
   "metadata": {},
   "source": [
    "Попробуем определить параметры $ y = kx+b $ с помощью функции потерь Хьюбера"
   ]
  },
  {
   "cell_type": "code",
   "execution_count": 12,
   "metadata": {},
   "outputs": [
    {
     "name": "stdout",
     "output_type": "stream",
     "text": [
      "Huber:  k= 0.515 b= 4.068\n",
      "MSE:    k= -0.478 b= 15.464\n",
      "Original: k= 0.5 b= 4\n"
     ]
    }
   ],
   "source": [
    "reg_huber = HuberRegressor()\n",
    "reg_huber.fit(x[:, np.newaxis], y_new)\n",
    "print('Huber: ', 'k=', round(reg_huber.coef_[0], 3), 'b=', round(reg_huber.intercept_, 3))\n",
    "print('MSE:   ', 'k=', round(reg_mse.coef_[0], 3), 'b=', round(reg_mse.intercept_, 3))\n",
    "print('Original:', 'k=', round(0.5, 3), 'b=', round(4, 3))"
   ]
  },
  {
   "cell_type": "code",
   "execution_count": 14,
   "metadata": {},
   "outputs": [
    {
     "data": {
      "text/plain": [
       "<matplotlib.legend.Legend at 0x7f2ea6f93dd8>"
      ]
     },
     "execution_count": 14,
     "metadata": {},
     "output_type": "execute_result"
    },
    {
     "data": {
      "image/png": "[encoded data removed]",
      "text/plain": [
       "<Figure size 432x288 with 1 Axes>"
      ]
     },
     "metadata": {
      "needs_background": "light"
     },
     "output_type": "display_data"
    }
   ],
   "source": [
    "plt.plot(x, y, 'magenta', label='y original')\n",
    "plt.plot(x, y_new, 'g*', label='y outlies')\n",
    "plt.plot(x, reg_mse.coef_[0]*x + reg_mse.intercept_, 'b', label='y mse')\n",
    "plt.plot(x, reg_huber.coef_[0]*x + reg_huber.intercept_, 'r', label='y huber')\n",
    "plt.grid()\n",
    "plt.legend()"
   ]
  },
  {
   "cell_type": "markdown",
   "metadata": {},
   "source": [
    "### Реализация HuberRegressor в scikit-learn"
   ]
  },
  {
   "cell_type": "markdown",
   "metadata": {},
   "source": [
    "https://github.com/scikit-learn/scikit-learn/blob/95d4f0841d57e8b5f6b2a570312e9d832e69debc/sklearn/linear_model/_huber.py#L17"
   ]
  },
  {
   "cell_type": "code",
   "execution_count": null,
   "metadata": {},
   "outputs": [],
   "source": []
  }
 ],
 "metadata": {
  "kernelspec": {
   "display_name": "Python 3",
   "language": "python",
   "name": "python3"
  },
  "language_info": {
   "codemirror_mode": {
    "name": "ipython",
    "version": 3
   },
   "file_extension": ".py",
   "mimetype": "text/x-python",
   "name": "python",
   "nbconvert_exporter": "python",
   "pygments_lexer": "ipython3",
   "version": "3.7.3"
  }
 },
 "nbformat": 4,
 "nbformat_minor": 2
}
