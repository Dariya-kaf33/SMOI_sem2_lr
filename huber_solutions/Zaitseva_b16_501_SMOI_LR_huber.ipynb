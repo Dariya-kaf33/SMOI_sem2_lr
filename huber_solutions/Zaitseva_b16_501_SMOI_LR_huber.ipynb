{
 "cells": [
  {
   "cell_type": "markdown",
   "metadata": {},
   "source": [
    "### Лабораторная работа №5\n",
    "#### Идентификация параметров линейного регрессионного объекта при α− загрязненных шумах"
   ]
  },
  {
   "cell_type": "markdown",
   "metadata": {},
   "source": [
    "Пусть линейный регрессионный объект имеет вид:\n",
    "$$ \\large y(i)=с_{0}+с_{1}u_{1}(i)+...+с_{4}u_{4}(i)+\\eta(i) , $$ \n",
    "\n",
    "где шум, действующий на объект, принадлежит классу приближенно нормальных распределений:\n",
    "$ \\large f(\\eta) = (1-\\alpha)f_N(\\eta) + \\alpha g(\\eta) $ <br>\n",
    "$ \\large f_N(\\eta) = \\frac{1}{\\sqrt{2 \\pi} \\sigma_\\eta} exp(- \\frac{\\eta^2}{2 \\sigma^2_\\eta}) $ - нормальное распределение $ \\large N(0, \\sigma_\\eta)$, <br>\n",
    "$\\large \\alpha$ - вероятность появление выброса с рапределением $\\large g(\\eta)$ <br>\n",
    "$\\large g(\\eta)$ - вообще говоря какое-то распределение, но в данной лабораторной работе будет нормальным $ \\large N(0, \\sigma_\\eta (outlier))$, но его параметры отличны от $\\large f_N(\\eta)$"
   ]
  },
  {
   "cell_type": "code",
   "execution_count": 1,
   "metadata": {},
   "outputs": [],
   "source": [
    "# параметры объекта \n",
    "c0=1.5\n",
    "c1=0.2\n",
    "c2=-0.1\n",
    "c3=0.3\n",
    "c4=1\n",
    "c_true=[c0,c1,c2,c3,c4]"
   ]
  },
  {
   "cell_type": "code",
   "execution_count": 2,
   "metadata": {},
   "outputs": [],
   "source": [
    "# количество измерений\n",
    "N=100"
   ]
  },
  {
   "cell_type": "markdown",
   "metadata": {},
   "source": [
    "#### Сгенерируем шум, принадлежащий классу приближенно нормальных распределений"
   ]
  },
  {
   "cell_type": "code",
   "execution_count": 62,
   "metadata": {},
   "outputs": [],
   "source": [
    "import numpy as np\n",
    "from scipy.stats import rv_continuous\n",
    "from math import sqrt,pi,exp\n",
    "from sympy import *\n",
    "import matplotlib.pyplot as plt"
   ]
  },
  {
   "cell_type": "code",
   "execution_count": 63,
   "metadata": {},
   "outputs": [],
   "source": [
    "# класс для \"загрязненного\" распределения\n",
    "class gaussian_gen(rv_continuous):\n",
    "    \n",
    "    def _pdf(self, x, alpha, sigma_1, sigma_2):\n",
    "        \"Gaussian distribution\"\n",
    "        def gaussian(self, x, sigma):\n",
    "            return np.exp(-x**2 / 2. / sigma**2) / (np.sqrt(2.0 * np.pi)*sigma)\n",
    "        \n",
    "        return (1-alpha)*gaussian(self, x, sigma_1)+alpha*gaussian(self, x, sigma_2)\n",
    "\n",
    "gaussian = gaussian_gen(name='dirty_distrib')"
   ]
  },
  {
   "cell_type": "markdown",
   "metadata": {},
   "source": [
    "Зададим следующие параметры нашего загрязненного распределения для шума:"
   ]
  },
  {
   "cell_type": "code",
   "execution_count": 64,
   "metadata": {},
   "outputs": [],
   "source": [
    "# Noise = gaussian.rvs(alpha=0.3, sigma_1=0.5, sigma_2=10, size=N)\n",
    "# Noise2 = gaussian.rvs(alpha=0.1, sigma_1=0.5, sigma_2=50, size=N)\n",
    "# Noise3 = gaussian.rvs(alpha=0.1, sigma_1=0.5, sigma_2=100, size=N)\n",
    "# Noise4 = gaussian.rvs(alpha=0.3, sigma_1=0.5, sigma_2=10, size=N)\n",
    "# Noise5 = gaussian.rvs(alpha=0.3, sigma_1=0.5, sigma_2=50, size=N)\n",
    "# Noise6 = gaussian.rvs(alpha=0.3, sigma_1=0.5, sigma_2=100, size=N)"
   ]
  },
  {
   "cell_type": "markdown",
   "metadata": {},
   "source": [
    "#### Посмотрим на сгенерированный шум и увидим \"выбросы\" из другого распределения"
   ]
  },
  {
   "cell_type": "code",
   "execution_count": 65,
   "metadata": {},
   "outputs": [],
   "source": [
    "import matplotlib.pyplot as plt\n",
    "%matplotlib inline"
   ]
  },
  {
   "cell_type": "code",
   "execution_count": 67,
   "metadata": {},
   "outputs": [
    {
     "data": {
      "image/png": "[encoded data removed]",
      "text/plain": [
       "<Figure size 432x288 with 1 Axes>"
      ]
     },
     "metadata": {},
     "output_type": "display_data"
    }
   ],
   "source": [
    "plt.plot(Noise)\n",
    "plt.grid()"
   ]
  },
  {
   "cell_type": "markdown",
   "metadata": {},
   "source": [
    "#### Зададим параметры входов объекта и смоделируем выход объекта"
   ]
  },
  {
   "cell_type": "code",
   "execution_count": 68,
   "metadata": {},
   "outputs": [],
   "source": [
    "#Ваш код здесь\n",
    "arg=1\n",
    "var=30\n",
    "Avg_U1=arg\n",
    "Var_U1=var\n",
    "Avg_U2=arg\n",
    "Var_U2=var\n",
    "Avg_U3=arg\n",
    "Var_U3=var\n",
    "Avg_U4=arg\n",
    "Var_U4=var"
   ]
  },
  {
   "cell_type": "code",
   "execution_count": 69,
   "metadata": {},
   "outputs": [],
   "source": [
    "#Ваш код здесь\n",
    "N=100\n",
    "U1=np.random.normal(Avg_U1, Var_U1, N)\n",
    "U2=np.random.normal(Avg_U2, Var_U2, N)\n",
    "U3=np.random.normal(Avg_U3, Var_U3, N)\n",
    "U4=np.random.normal(Avg_U4, Var_U4, N)\n",
    "X = np.array([np.ones(N),U1,U2,U3,U4]).T"
   ]
  },
  {
   "cell_type": "markdown",
   "metadata": {},
   "source": [
    "### Эффективность алгоритма Хубера vs Рекуррентным МНК при различных статистических характеристиках распределений"
   ]
  },
  {
   "cell_type": "markdown",
   "metadata": {},
   "source": [
    "В лабораторной работе требуется:\n",
    "\n",
    "1. Реализовать __class Huber__ c методами: <br>\n",
    "   * в конструкторе класса небходимо задать:<br>\n",
    "     1) λ в формуле задания начального приближения матрицы Г(0) = λ*I <br>\n",
    "    2) параметр $ \\xi $, участвующий в функции потерь Хьюбера, в зависимости от вероятности появления выброса $ \\alpha $ (значения которого приведены в описании ЛР) <br><br>\n",
    "   *   __def fit(X, y, c0)__ - метод реализует алгоритм итерационного оценивания параметов объекта с использованием функции потерь Хьюбера:<br>\n",
    "        <br>\n",
    "        Input:<br>\n",
    "            X - матрица входов объекта, [X] = m x N <br>\n",
    "            y - вектор выходов объекта, [y] = N <br>\n",
    "            с0 - вектор начального приближения, [c0] = m <br>\n",
    "        <br>       \n",
    "   * __def get_coefs()__ - метод возвращает массив коэффициентов оценок вектора параметров объекта, получаемого на каждом новом шаге измерений<br>\n",
    "        <br>\n",
    "        Output:<br>\n",
    "            c_estim_huber - массив оценок параметров объекта, полученный в результате работы метода fit<br><br>\n",
    "2. Реализовать __class RecurrentMLS__ с методами: <br>\n",
    "\n",
    "    * в конструкторе класса небходимо задать:<br>\n",
    "     1) λ в формуле задания начального приближения матрицы Г(0) = λ*I <br><br>\n",
    "\n",
    "    * __def fit(X, y, c0)__ - метод реализует алгоритм итерационного оценивания параметов объекта с использованием квадратичной функции потерь (см. 2 лабораторную работу):<br>\n",
    "         <br>\n",
    "     Input:<br>\n",
    "             X - матрица входов объекта, [X] = m x N<br>\n",
    "             y - вектор выходов объекта, [y] = N<br>\n",
    "             с0 - вектор начального приближения, [c0] = m+1<br><br>\n",
    "        \n",
    "    * __def get_coefs()__ - метод возвращает массив коэффициентов оценок вектора параметров объекта, получаемого на каждом новом шаге измерений<br>\n",
    "        <br>\n",
    "        Output:<br>\n",
    "            c_estim_recMLS - массив оценок параметров объекта, полученный в результате работы метода fit<br><br>        \n",
    "3. Реализовать функцию __smooth_errors(c_estim, c_true)__  - вычисляет сглаженную ошибку оценки по 10 измерениям. <br>\n",
    "         Input: \n",
    "             c_estim - массив оценок параметров объекта, [c_estim] = m+1 x N\n",
    "             c_true - вектор истинных параметров объекта, [c_true] = m+1 \n",
    "         Output:\n",
    "             err - массив сглаженных ошибок оценки\n",
    "              \n",
    "4. Провести исследование эффективности алгоритма Хубера по сравнению с рекуррентным МНК алгоритмом при следующих статистических характеристиках распределений:<br>\n",
    "    * $ \\sigma_\\eta $ = 0.5    $\\alpha$ = 0.1    $\\sigma_\\eta (outlier)$ = 10;\n",
    "    * $ \\sigma_\\eta $ = 0.5    $\\alpha$ = 0.1    $\\sigma_\\eta (outlier)$ = 50;\n",
    "    * $ \\sigma_\\eta $ = 0.5    $\\alpha$ = 0.1    $\\sigma_\\eta (outlier)$ = 100;\n",
    "    * $ \\sigma_\\eta $ = 0.5    $\\alpha$ = 0.3    $\\sigma_\\eta (outlier)$ = 10;\n",
    "    * $ \\sigma_\\eta $ = 0.5    $\\alpha$ = 0.3    $\\sigma_\\eta (outlier)$ = 50;\n",
    "    * $ \\sigma_\\eta $ = 0.5    $\\alpha$ = 0.3    $\\sigma_\\eta (outlier)$ = 100. <br><br>\n",
    "5. Построить графики сходимости сглаженной ошибки оценки по двум алгоритмам: алгоритм с использованием теоремы Хубера и рекуррентный алгоритм, соответствующий методу наименьших квадратов. Сдалать выводы."
   ]
  },
  {
   "cell_type": "markdown",
   "metadata": {},
   "source": [
    "### Hints"
   ]
  },
  {
   "cell_type": "markdown",
   "metadata": {},
   "source": [
    "1. Рекуррентный алгоритм при функции потерь Хьюбера имеет вид:\n",
    "\\begin{equation} \\large \\hat{\\vec{c}}(i)=\\hat{\\vec{c}}(i-1)+Г(i)d(\\varepsilon(i, \\hat{\\vec{c}}(i-1)))\\vec{z}(i) \\\\\n",
    "\\large Г(i)=Г(i-1)-\\frac{Г(i-1)\\vec{z}(i)\\vec{z}(i)^TГ(i-1)}{I^{-1}_F+\\vec{z}^T(i)Г(i-1)\\vec{z}(i)} \\\\\n",
    "\\large Г(0)=\\lambda I, \\lambda >> 1,  \\hat{\\vec{c}}(0)=\\vec{c}_{0}\\end{equation}"
   ]
  },
  {
   "cell_type": "markdown",
   "metadata": {},
   "source": [
    "где $ \\large  \\Delta = \\xi\\sigma_\\eta$\n",
    "\\begin{equation} \\large d(\\varepsilon(i, \\hat{\\vec{c}}(i-1)))=\\frac{dF(\\varepsilon(i, \\hat{\\vec{c}}(i-1)))}{d\\varepsilon}|_{\\varepsilon = \\varepsilon(i, \\hat{\\vec{c}}(i-1)))}= \\left\\{\n",
    "    \\begin{array}\\\\\n",
    "        -\\Delta, & \\varepsilon(i) \\leq -\\Delta \\\\\n",
    "        \\varepsilon(i, \\hat{\\vec{c}}(i-1))), & -\\Delta \\leq |\\varepsilon(i)| \\leq \\Delta\\\\\n",
    "        \\Delta, &  \\varepsilon(i) \\geq \\Delta\n",
    "    \\end{array}  \n",
    "\\right.\\end{equation}"
   ]
  },
  {
   "cell_type": "markdown",
   "metadata": {},
   "source": [
    "\\begin{equation} \\large  I_F=2(1-\\alpha)\\frac{\\Delta}{\\sigma^2_\\eta}f_N(\\frac{\\Delta}{\\sigma_\\eta})+(1-\\alpha)\\frac{1}{\\sqrt{2\\pi}\\sigma_\\eta}\\frac{1}{\\sigma^4_\\eta}\\int_{-\\Delta}^\\Delta \\eta^2exp(\\frac{-\\eta^2}{2\\sigma^2_\\eta})d\\eta\\end{equation}"
   ]
  },
  {
   "cell_type": "markdown",
   "metadata": {},
   "source": [
    "2. Для вычислении информации Фишера можно использовать модуль __sympy__ (https://docs.sympy.org/latest/modules/integrals/integrals.html)"
   ]
  },
  {
   "cell_type": "code",
   "execution_count": 72,
   "metadata": {},
   "outputs": [],
   "source": [
    "class Huber:\n",
    "    \n",
    "    def __init__(self,alpha,arg_nu=0.5,Lambda=0.1):\n",
    "        self.Lambda = Lambda\n",
    "        alpha_psi = {0.3:1.1,0.1:0.9}\n",
    "        self.psi = alpha_psi[alpha]\n",
    "        self.delta = self.psi*arg_nu\n",
    "#         для ускорения посчитала заранее,формула ниже\n",
    "        inf_Fisher = {0.1:1.062131,0.3:0.9168241401}\n",
    "        self.I = inf_Fisher[alpha]\n",
    "#         self.I = float(2*(1-alpha)*self.delta*self.fN(self.delta/arg_nu,arg_nu)/arg_nu**2+(1-alpha)/(sqrt(2*pi)*arg_nu*arg_nu**4)*self.integ_for_fisher(-self.delta,self.delta,arg_nu))\n",
    "        \n",
    "    def integ_for_fisher(self,a,b,arg_nu):\n",
    "\n",
    "        x = Symbol('x')\n",
    "        return float(integrate(x*x*exp(-x**2/(2*arg_nu**2)), (x,a,b)))\n",
    "    \n",
    "    def fN(self,x, arg_nu=0.5):\n",
    "        return float(exp(-0.5*((x/arg_nu)**2)) / (arg_nu * sqrt(2*pi)))\n",
    "\n",
    "    def fit(self,X,y,c0):   \n",
    "        self.X = X\n",
    "        self.y = y\n",
    "        N = y.shape[0]\n",
    "        n = len(X[0])\n",
    "        G = np.eye(n) * self.Lambda\n",
    "        self.coef = np.empty([N,n])\n",
    "        self.coef[0] = np.array(c0)\n",
    "\n",
    "        \n",
    "        for i in range(N):\n",
    "            z=X[i].reshape(-1,1)  \n",
    "            G = G - G@z@z.T@G/(1/self.I+z.T@G@z)\n",
    "            self.coef[i] = self.coef[i-1]+(self.d(i)*G@z).reshape(-1,)\n",
    "            \n",
    "          \n",
    "    def d(self,i):\n",
    "        eps = self.y[i] - self.X[i]@self.coef[i-1]\n",
    "        if eps<=-self.delta:\n",
    "            return -self.delta\n",
    "        elif eps>=self.delta:\n",
    "            return self.delta\n",
    "        else:\n",
    "            return eps\n",
    "        \n",
    "        \n",
    "    def get_coefs(self):\n",
    "        return self.coef[::]"
   ]
  },
  {
   "cell_type": "code",
   "execution_count": 73,
   "metadata": {},
   "outputs": [],
   "source": [
    "class RecurrentMLS:\n",
    "    def __init__(self,Lambda=0.1):\n",
    "        self.Lambda=Lambda\n",
    "    \n",
    "    def fit(self,X,y,c0):\n",
    "        self.X = X\n",
    "        self.y = y\n",
    "        N = y.shape[0]\n",
    "        n = len(X[0])\n",
    "        G = np.eye(n) * self.Lambda\n",
    "        self.coef = np.empty([N,n])\n",
    "        self.coef[0] = np.array(c0)\n",
    "\n",
    "        for i in range(1,N):\n",
    "            z=X[i].reshape(-1,1)   \n",
    "            K = G@z\n",
    "            G = G - G@z@z.T@G/(1+z.T@G@z)\n",
    "            self.coef[i]=self.coef[i-1]+ (K*(y[i]-z.T@self.coef[i-1])).reshape(5,)\n",
    "                        \n",
    "    def get_coefs(self):\n",
    "        return self.coef[::]\n",
    "    "
   ]
  },
  {
   "cell_type": "code",
   "execution_count": 74,
   "metadata": {},
   "outputs": [],
   "source": [
    "def smooth_errors(c_estim, c_true):\n",
    "    err=[]\n",
    "    N=len(c_estim)\n",
    "    for i in range(10,N):\n",
    "        x=0\n",
    "        for j in range(1,10):\n",
    "            for k in range(0,4):\n",
    "                x+=(c_true[k]-c_estim[i-j][k])**2\n",
    "        err.append(np.sqrt(x/10))\n",
    "    return err"
   ]
  },
  {
   "cell_type": "markdown",
   "metadata": {},
   "source": [
    "**Research**"
   ]
  },
  {
   "cell_type": "code",
   "execution_count": 194,
   "metadata": {},
   "outputs": [],
   "source": [
    "c_=[1.4,0.3,0,0,1.1]\n",
    "N=200\n",
    "U1=np.random.normal(Avg_U1, Var_U1, N)\n",
    "U2=np.random.normal(Avg_U2, Var_U2, N)\n",
    "U3=np.random.normal(Avg_U3, Var_U3, N)\n",
    "U4=np.random.normal(Avg_U4, Var_U4, N)\n",
    "X = np.array([np.ones(N),U1,U2,U3,U4]).T"
   ]
  },
  {
   "cell_type": "code",
   "execution_count": 233,
   "metadata": {},
   "outputs": [],
   "source": [
    "alpha = 0.1\n",
    "sigma_1 = 0.5\n",
    "sigma_2 = 10\n",
    "Noise = gaussian.rvs(alpha, sigma_1, sigma_2, size=N)\n",
    "y=c0+c1*U1+c2*U2+c3*U3+c4*U4+Noise\n",
    "\n",
    "# plt.plot(y)\n",
    "# plt.grid()"
   ]
  },
  {
   "cell_type": "code",
   "execution_count": 235,
   "metadata": {},
   "outputs": [
    {
     "data": {
      "image/png": "[encoded data removed]",
      "text/plain": [
       "<Figure size 432x288 with 1 Axes>"
      ]
     },
     "metadata": {},
     "output_type": "display_data"
    }
   ],
   "source": [
    "h = Huber(alpha,sigma_1,Lambda=10)\n",
    "h.fit(X,y,c_)\n",
    "c_estim=h.get_coefs()\n",
    "err_h =  smooth_errors(c_estim,c_true)\n",
    "\n",
    "r = RecurrentMLS(Lambda=0.001)\n",
    "r.fit(X,y,c_)\n",
    "c_estim=r.get_coefs()\n",
    "err_r =  smooth_errors(c_estim,c_true)\n",
    "\n",
    "t = range(10,N)\n",
    "# plt.title('sigma_nu  = 0.5  alpha  = 0.1  sigma_nu(outlier)  = 10')\n",
    "plt.plot(t, err_h, label = 'Huber')\n",
    "plt.plot(t, err_r, label = 'ReccurentMLS')\n",
    "plt.legend()\n",
    "plt.show()\n"
   ]
  }
 ],
 "metadata": {
  "kernelspec": {
   "display_name": "Python 3",
   "language": "python",
   "name": "python3"
  },
  "language_info": {
   "codemirror_mode": {
    "name": "ipython",
    "version": 3
   },
   "file_extension": ".py",
   "mimetype": "text/x-python",
   "name": "python",
   "nbconvert_exporter": "python",
   "pygments_lexer": "ipython3",
   "version": "3.6.5"
  },
  "widgets": {
   "application/vnd.jupyter.widget-state+json": {
    "state": {},
    "version_major": 2,
    "version_minor": 0
   }
  }
 },
 "nbformat": 4,
 "nbformat_minor": 2
}
